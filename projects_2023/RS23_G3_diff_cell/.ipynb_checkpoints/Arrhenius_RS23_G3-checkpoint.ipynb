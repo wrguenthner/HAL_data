{
 "cells": [
  {
   "cell_type": "markdown",
   "metadata": {},
   "source": [
    "## Arrhenius plot and diffusion kinetic parameters for step-heating experiments\n",
    "\n",
    "This notebook uses the reduced JSON data file of each step-heating experiments from the HAL to create their Arrhenius plots and calculate the diffusion kinetic parameters."
   ]
  },
  {
   "cell_type": "code",
   "execution_count": 1,
   "metadata": {},
   "outputs": [],
   "source": [
    "#import packages\n",
    "import numpy as np\n",
    "import pandas as pd\n",
    "import matplotlib.pyplot as plt\n",
    "%matplotlib inline"
   ]
  },
  {
   "cell_type": "code",
   "execution_count": 2,
   "metadata": {},
   "outputs": [],
   "source": [
    "#defining some constants\n",
    "gas_constant = 8.314472   # universal gas constant in kJ/K*mol\n",
    "avogadro = 6.022e+23   # in 1/mol"
   ]
  },
  {
   "cell_type": "markdown",
   "metadata": {},
   "source": [
    "### 1. Input sample specific values\n",
    "\n",
    "In the cell below, input all necessary information for the specific sample."
   ]
  },
  {
   "cell_type": "code",
   "execution_count": 3,
   "metadata": {},
   "outputs": [],
   "source": [
    "Sample_ID = 'RS23_G3'\n",
    "\n",
    "# slab dimensions in microns\n",
    "width = 84.58\n",
    "length_1 = 541.58\n",
    "length_2 = 530.46\n",
    "\n",
    "# insert zircon density\n",
    "zirc_rho = 4.36  # in g/cm^3\n",
    "\n",
    "# dose\n",
    "dose_UPb = 5.01e18 # time-integrated dose in alphas/gram\n",
    "dose_eq1 = 3.49e18  # equivalent dose (model 1) in alphas/gram\n",
    "dose_eq2 = 4.88e18 # equivalent dose (model 1) in alphas/gram\n",
    "\n",
    "half_width = (width/2) / 1e4 # in cm"
   ]
  },
  {
   "cell_type": "code",
   "execution_count": 4,
   "metadata": {},
   "outputs": [
    {
     "name": "stdout",
     "output_type": "stream",
     "text": [
      "8.813865190940904e-10  mol\n"
     ]
    }
   ],
   "source": [
    "#calculating volume \n",
    "\n",
    "vol = (width * length_1 * length_2) / 1e12  # in cm^3\n",
    "\n",
    "#calculating volumetric mol of He\n",
    "#make sure to choose the alpha dose value you want to use\n",
    "\n",
    "He_mol_total = ((vol * zirc_rho) * dose_UPb) / avogadro   # in mol\n",
    "#vol_He = (1e15 * (vol * zirc_rho) * alpha) / avogadro  # in fmol\n",
    "\n",
    "#vol_He_sci = \"{:e}\".format(vol_He)\n",
    "#print(vol_He_sci)\n",
    "\n",
    "print(He_mol_total, ' mol')"
   ]
  },
  {
   "cell_type": "markdown",
   "metadata": {},
   "source": [
    "### 2. Import JSON file\n",
    "Use the script below to read a JSON from a local file. Simply input the name of the JSON file as `filename.json`. IMPORTANT: the file needs to be in the same directory as this notebook."
   ]
  },
  {
   "cell_type": "code",
   "execution_count": 5,
   "metadata": {
    "scrolled": false
   },
   "outputs": [
    {
     "data": {
      "text/html": [
       "<div>\n",
       "<style scoped>\n",
       "    .dataframe tbody tr th:only-of-type {\n",
       "        vertical-align: middle;\n",
       "    }\n",
       "\n",
       "    .dataframe tbody tr th {\n",
       "        vertical-align: top;\n",
       "    }\n",
       "\n",
       "    .dataframe thead th {\n",
       "        text-align: right;\n",
       "    }\n",
       "</style>\n",
       "<table border=\"1\" class=\"dataframe\">\n",
       "  <thead>\n",
       "    <tr style=\"text-align: right;\">\n",
       "      <th></th>\n",
       "      <th>sample_ID</th>\n",
       "      <th>ncc_4He</th>\n",
       "      <th>ncc_4He_1sig</th>\n",
       "      <th>mol_He</th>\n",
       "      <th>mol_He_1sig</th>\n",
       "      <th>notes</th>\n",
       "      <th>temp_degC</th>\n",
       "      <th>time_s</th>\n",
       "    </tr>\n",
       "  </thead>\n",
       "  <tbody>\n",
       "    <tr>\n",
       "      <th>0</th>\n",
       "      <td>RS23_G3_150_1</td>\n",
       "      <td>5.426798</td>\n",
       "      <td>0.015869</td>\n",
       "      <td>2.421164e-13</td>\n",
       "      <td>7.079897e-16</td>\n",
       "      <td></td>\n",
       "      <td>150</td>\n",
       "      <td>7200</td>\n",
       "    </tr>\n",
       "  </tbody>\n",
       "</table>\n",
       "</div>"
      ],
      "text/plain": [
       "       sample_ID   ncc_4He  ncc_4He_1sig        mol_He   mol_He_1sig notes  \\\n",
       "0  RS23_G3_150_1  5.426798      0.015869  2.421164e-13  7.079897e-16         \n",
       "\n",
       "   temp_degC  time_s  \n",
       "0        150    7200  "
      ]
     },
     "execution_count": 5,
     "metadata": {},
     "output_type": "execute_result"
    }
   ],
   "source": [
    "He_data = pd.read_json('RS23_G3_diff_cell_He_data.json', orient='index')\n",
    "\n",
    "# adding column name to the respective columns\n",
    "He_data.reset_index(inplace=True)  # assigning simple index for ease of calculation\n",
    "He_data.columns =['sample_ID' , 'ncc_4He' , 'ncc_4He_1sig' , 'mol_He' , 'mol_He_1sig' , 'notes' , 'temp_degC', 'time_s']\n",
    "\n",
    "He_data"
   ]
  },
  {
   "cell_type": "markdown",
   "metadata": {},
   "source": [
    "#### Appending temperature, time, and cumulative time\n",
    "\n",
    "The easiest way would be to compile the heating temperature and time in an excel file (with column labels) and appending it to the data frame.\n",
    "\n",
    "If temp and time were input in `He_line_calc_diff_cell.ipynb` script, then now just need to calculate `t_cum`."
   ]
  },
  {
   "cell_type": "code",
   "execution_count": 6,
   "metadata": {
    "scrolled": false
   },
   "outputs": [
    {
     "data": {
      "text/html": [
       "<div>\n",
       "<style scoped>\n",
       "    .dataframe tbody tr th:only-of-type {\n",
       "        vertical-align: middle;\n",
       "    }\n",
       "\n",
       "    .dataframe tbody tr th {\n",
       "        vertical-align: top;\n",
       "    }\n",
       "\n",
       "    .dataframe thead th {\n",
       "        text-align: right;\n",
       "    }\n",
       "</style>\n",
       "<table border=\"1\" class=\"dataframe\">\n",
       "  <thead>\n",
       "    <tr style=\"text-align: right;\">\n",
       "      <th></th>\n",
       "      <th>sample_ID</th>\n",
       "      <th>ncc_4He</th>\n",
       "      <th>ncc_4He_1sig</th>\n",
       "      <th>mol_He</th>\n",
       "      <th>mol_He_1sig</th>\n",
       "      <th>notes</th>\n",
       "      <th>temp_degC</th>\n",
       "      <th>time_s</th>\n",
       "      <th>t_cum</th>\n",
       "    </tr>\n",
       "  </thead>\n",
       "  <tbody>\n",
       "    <tr>\n",
       "      <th>0</th>\n",
       "      <td>RS23_G3_150_1</td>\n",
       "      <td>5.426798</td>\n",
       "      <td>0.015869</td>\n",
       "      <td>2.421164e-13</td>\n",
       "      <td>7.079897e-16</td>\n",
       "      <td></td>\n",
       "      <td>150</td>\n",
       "      <td>7200</td>\n",
       "      <td>7200</td>\n",
       "    </tr>\n",
       "  </tbody>\n",
       "</table>\n",
       "</div>"
      ],
      "text/plain": [
       "       sample_ID   ncc_4He  ncc_4He_1sig        mol_He   mol_He_1sig notes  \\\n",
       "0  RS23_G3_150_1  5.426798      0.015869  2.421164e-13  7.079897e-16         \n",
       "\n",
       "   temp_degC  time_s  t_cum  \n",
       "0        150    7200   7200  "
      ]
     },
     "execution_count": 6,
     "metadata": {},
     "output_type": "execute_result"
    }
   ],
   "source": [
    "#adding new columns from excel\n",
    "#temp_time = pd.read_excel('G168_heating_tT.xlsx')\n",
    "\n",
    "#He_data['temp_degC'] = temp_time ['temp_degC'].values\n",
    "#He_data['time_s'] = temp_time ['time_s'].values\n",
    "\n",
    "#adding new column for cumulative time in s\n",
    "He_data['t_cum'] = He_data['time_s'].cumsum()\n",
    "\n",
    "He_data"
   ]
  },
  {
   "cell_type": "markdown",
   "metadata": {},
   "source": [
    "### 3. Making an Arrhenius plot\n",
    "#### Calculating the fraction released `frac`, cumulative fraction released `f_cum`, and ln(D/${a^2}$) `ln_D_a2` for all the heating steps."
   ]
  },
  {
   "cell_type": "code",
   "execution_count": 7,
   "metadata": {
    "scrolled": false
   },
   "outputs": [
    {
     "data": {
      "text/html": [
       "<div>\n",
       "<style scoped>\n",
       "    .dataframe tbody tr th:only-of-type {\n",
       "        vertical-align: middle;\n",
       "    }\n",
       "\n",
       "    .dataframe tbody tr th {\n",
       "        vertical-align: top;\n",
       "    }\n",
       "\n",
       "    .dataframe thead th {\n",
       "        text-align: right;\n",
       "    }\n",
       "</style>\n",
       "<table border=\"1\" class=\"dataframe\">\n",
       "  <thead>\n",
       "    <tr style=\"text-align: right;\">\n",
       "      <th></th>\n",
       "      <th>sample_ID</th>\n",
       "      <th>ncc_4He</th>\n",
       "      <th>ncc_4He_1sig</th>\n",
       "      <th>mol_He</th>\n",
       "      <th>mol_He_1sig</th>\n",
       "      <th>notes</th>\n",
       "      <th>temp_degC</th>\n",
       "      <th>time_s</th>\n",
       "      <th>t_cum</th>\n",
       "      <th>frac</th>\n",
       "      <th>f_cum</th>\n",
       "      <th>ln_D_a2</th>\n",
       "    </tr>\n",
       "  </thead>\n",
       "  <tbody>\n",
       "    <tr>\n",
       "      <th>0</th>\n",
       "      <td>RS23_G3_150_1</td>\n",
       "      <td>5.426798</td>\n",
       "      <td>0.015869</td>\n",
       "      <td>2.421164e-13</td>\n",
       "      <td>7.079897e-16</td>\n",
       "      <td></td>\n",
       "      <td>150</td>\n",
       "      <td>7200</td>\n",
       "      <td>7200</td>\n",
       "      <td>0.000275</td>\n",
       "      <td>0.000275</td>\n",
       "      <td>-25.523066</td>\n",
       "    </tr>\n",
       "  </tbody>\n",
       "</table>\n",
       "</div>"
      ],
      "text/plain": [
       "       sample_ID   ncc_4He  ncc_4He_1sig        mol_He   mol_He_1sig notes  \\\n",
       "0  RS23_G3_150_1  5.426798      0.015869  2.421164e-13  7.079897e-16         \n",
       "\n",
       "   temp_degC  time_s  t_cum      frac     f_cum    ln_D_a2  \n",
       "0        150    7200   7200  0.000275  0.000275 -25.523066  "
      ]
     },
     "execution_count": 7,
     "metadata": {},
     "output_type": "execute_result"
    }
   ],
   "source": [
    "#empty lists that we'll append to\n",
    "frac = []\n",
    "ln_D_a2 = []\n",
    "\n",
    "#calculating just the fraction released at individual steps\n",
    "\n",
    "for i in range(len(He_data)):\n",
    "    frac = He_data.mol_He / He_mol_total\n",
    "\n",
    "He_data['frac'] = frac\n",
    "\n",
    "#calculating cumulative fraction released and putting it into a new column\n",
    "He_data['f_cum'] = He_data['frac'].cumsum()\n",
    "\n",
    "# first define the first step with f_cum that is more or equal to 0.45\n",
    "fcum_45 = 2\n",
    "\n",
    "#now calculating ln(D/a^2)\n",
    "for i in range(len(He_data)):\n",
    "\n",
    "    if i == 0:\n",
    "        ln_Da2 = np.log((He_data.f_cum[i] ** 2) * (np.pi / (4 * He_data.time_s[i])))\n",
    "    \n",
    "    elif 0 < i < fcum_45:\n",
    "        ln_Da2 = np.log((np.pi * (He_data.f_cum[i]**2 - He_data.f_cum[i-1]**2)) / (4 * He_data.time_s[i]))\n",
    "        \n",
    "    else:\n",
    "        ln_Da2 = np.log((-4 / (np.pi**2 * He_data.time_s[i])) * np.log((1 - He_data.f_cum[i])/(1 - He_data.f_cum[i-1])))\n",
    "        \n",
    "    ln_D_a2.append(ln_Da2) \n",
    "\n",
    "#adding list into dataframe\n",
    "He_data['ln_D_a2'] = ln_D_a2\n",
    "\n",
    "He_data"
   ]
  },
  {
   "cell_type": "markdown",
   "metadata": {},
   "source": [
    "#### Calculating uncertainties for `D_a2`.\n",
    "\n",
    "We will use equations 20 and 24 of Ginster (2018, dissertation) to calculate the uncertainty for `D_a2`."
   ]
  },
  {
   "cell_type": "code",
   "execution_count": 8,
   "metadata": {
    "scrolled": false
   },
   "outputs": [
    {
     "data": {
      "text/html": [
       "<div>\n",
       "<style scoped>\n",
       "    .dataframe tbody tr th:only-of-type {\n",
       "        vertical-align: middle;\n",
       "    }\n",
       "\n",
       "    .dataframe tbody tr th {\n",
       "        vertical-align: top;\n",
       "    }\n",
       "\n",
       "    .dataframe thead th {\n",
       "        text-align: right;\n",
       "    }\n",
       "</style>\n",
       "<table border=\"1\" class=\"dataframe\">\n",
       "  <thead>\n",
       "    <tr style=\"text-align: right;\">\n",
       "      <th></th>\n",
       "      <th>sample_ID</th>\n",
       "      <th>ncc_4He</th>\n",
       "      <th>ncc_4He_1sig</th>\n",
       "      <th>mol_He</th>\n",
       "      <th>mol_He_1sig</th>\n",
       "      <th>notes</th>\n",
       "      <th>temp_degC</th>\n",
       "      <th>time_s</th>\n",
       "      <th>t_cum</th>\n",
       "      <th>frac</th>\n",
       "      <th>f_cum</th>\n",
       "      <th>ln_D_a2</th>\n",
       "      <th>ln_D_a2_sig</th>\n",
       "    </tr>\n",
       "  </thead>\n",
       "  <tbody>\n",
       "    <tr>\n",
       "      <th>0</th>\n",
       "      <td>RS23_G3_150_1</td>\n",
       "      <td>5.426798</td>\n",
       "      <td>0.015869</td>\n",
       "      <td>2.421164e-13</td>\n",
       "      <td>7.079897e-16</td>\n",
       "      <td></td>\n",
       "      <td>150</td>\n",
       "      <td>7200</td>\n",
       "      <td>7200</td>\n",
       "      <td>0.000275</td>\n",
       "      <td>0.000275</td>\n",
       "      <td>-25.523066</td>\n",
       "      <td>0.00583</td>\n",
       "    </tr>\n",
       "  </tbody>\n",
       "</table>\n",
       "</div>"
      ],
      "text/plain": [
       "       sample_ID   ncc_4He  ncc_4He_1sig        mol_He   mol_He_1sig notes  \\\n",
       "0  RS23_G3_150_1  5.426798      0.015869  2.421164e-13  7.079897e-16         \n",
       "\n",
       "   temp_degC  time_s  t_cum      frac     f_cum    ln_D_a2  ln_D_a2_sig  \n",
       "0        150    7200   7200  0.000275  0.000275 -25.523066      0.00583  "
      ]
     },
     "execution_count": 8,
     "metadata": {},
     "output_type": "execute_result"
    }
   ],
   "source": [
    "#empty lists that we'll append to\n",
    "ln_D_a2_sig = []\n",
    "\n",
    "\n",
    "#now calculating uncertainty for ln(D/a^2)\n",
    "#but first define if you want to calc using 1 or 2 sig uncertainty of the evolved gas mol\n",
    "sig = 1\n",
    "\n",
    "for i in range(len(He_data)):\n",
    "\n",
    "    if i == 0:\n",
    "        long_eq = ((1 - He_data.f_cum[i]) * (sig*He_data.mol_He_1sig[i]))**2 + (He_data.f_cum[i]**2) \\\n",
    "                    * np.sum((sig*He_data.mol_He_1sig[1:])**2)\n",
    "        Da2_sig = (np.pi/(2 * He_data.time_s[i])) * (He_data.f_cum[i]/He_mol_total) * np.sqrt(long_eq)\n",
    "        ln_Da2_sig = np.log(np.exp(He_data.ln_D_a2[i]) + Da2_sig) - He_data.ln_D_a2[i]\n",
    "    \n",
    "    elif 0 < i < fcum_45:\n",
    "        long_eq1 = ((He_data.f_cum[i] * (1 - He_data.f_cum[i]) - He_data.f_cum[i-1] * (1 - He_data.f_cum[i-1]))**2) \\\n",
    "                    * np.sum((sig*He_data.mol_He_1sig[:i])**2)\n",
    "        long_eq2 = ((He_data.f_cum[i] * (1 - He_data.f_cum[i]) + He_data.f_cum[i-1]**2)**2) \\\n",
    "                    * ((sig*He_data.mol_He_1sig[i])**2)\n",
    "        long_eq3 = ((He_data.f_cum[i-1]**2 - He_data.f_cum[i]**2)**2) \\\n",
    "                    * np.sum((sig*He_data.mol_He_1sig[i+1:])**2)\n",
    "        Da2_sig2 = (np.pi/(2 * He_data.time_s[i] * He_mol_total)) * np.sqrt(long_eq1 + long_eq2 + long_eq3)\n",
    "        ln_Da2_sig = np.log(np.exp(He_data.ln_D_a2[i]) + Da2_sig2) - He_data.ln_D_a2[i]\n",
    "        \n",
    "    else:\n",
    "        long_eq4 = ((1 + (He_data.f_cum[i-1] / (1 - He_data.f_cum[i-1])))**2) * (sig*He_data.mol_He_1sig[i])**2\n",
    "        long_eq5 = ((He_data.f_cum[i-1]/(1 - He_data.f_cum[i-1]) - He_data.f_cum[i]/(1-He_data.f_cum[i]))**2) \\\n",
    "                    * np.sum((sig*He_data.mol_He_1sig[i+1:]**2))\n",
    "        Da2_sig3 = (4 / (np.pi * He_data.time_s[i] * He_mol_total)) * np.sqrt(long_eq4 + long_eq5)\n",
    "        ln_Da2_sig = np.log(np.exp(He_data.ln_D_a2[i]) + Da2_sig3) - He_data.ln_D_a2[i]\n",
    "        \n",
    "    ln_D_a2_sig.append(ln_Da2_sig) \n",
    "\n",
    "#adding list into dataframe\n",
    "He_data['ln_D_a2_sig'] = ln_D_a2_sig\n",
    "\n",
    "He_data"
   ]
  },
  {
   "cell_type": "markdown",
   "metadata": {},
   "source": [
    "#### Now plotting `ln_D_a2` vs 1e4/T(K)\n",
    "Temperature is listed as degree C, so we'd need to convert that and divide it by 1e4. In order to be able to easily calculate linear regression and visualize linear vs non-linear trends, we will plot these separately. Therefore, the index number for the last NAB step should be changed for each experiment."
   ]
  },
  {
   "cell_type": "code",
   "execution_count": 9,
   "metadata": {
    "scrolled": false
   },
   "outputs": [
    {
     "data": {
      "image/png": "[encoded data removed]",
      "text/plain": [
       "<Figure size 864x720 with 1 Axes>"
      ]
     },
     "metadata": {
      "needs_background": "light"
     },
     "output_type": "display_data"
    }
   ],
   "source": [
    "plt.figure(figsize = (12, 10))\n",
    "plt.xlabel(r'$10^{4}$/T ($K^{-1}$)', fontsize='12.5')\n",
    "plt.ylabel(r'ln(D/$a^{2}$', fontsize='12.5')\n",
    "plt.xlim(15, 30)\n",
    "plt.ylim(-28, -12)\n",
    "plt.xticks(fontsize=10)\n",
    "plt.yticks(fontsize=10)\n",
    "plt.title('G3 Arrhenius plot', fontsize='15')\n",
    "\n",
    "# FIRST OF ALL input the index for the FIRST Arrhenius datapoint that will be used for regression\n",
    "\n",
    "arr_1 = 2\n",
    "\n",
    "\n",
    "# now we will make the Arrhenius plot. NOTE last step (index 20) is not included\n",
    "\n",
    "x_axis1 = 1e4 / (He_data.temp_degC.iloc[:arr_1] + 273.15)\n",
    "x_axis2 = 1e4 / (He_data.temp_degC.iloc[arr_1:] + 273.15)\n",
    "x_axis_btwn = 1e4 / (He_data.temp_degC.iloc[arr_1-1:arr_1+1] + 273.15)\n",
    "\n",
    "plt.plot(x_axis1, He_data.ln_D_a2.iloc[:arr_1], color = 'gray', linewidth=0.5)\n",
    "plt.plot(x_axis2, He_data.ln_D_a2.iloc[arr_1:], color = 'gray', linewidth=0.5)\n",
    "plt.plot(x_axis_btwn, He_data.ln_D_a2.iloc[arr_1-1:arr_1+1], color = 'gray', linewidth=0.5)\n",
    "plt.scatter(x_axis1, He_data.ln_D_a2.iloc[:arr_1], color = 'b', s=75)\n",
    "plt.scatter(x_axis2, He_data.ln_D_a2.iloc[arr_1:], color = 'm', s=75)\n",
    "\n",
    "plt.errorbar(x_axis1, He_data.ln_D_a2.iloc[:arr_1], yerr=He_data.ln_D_a2_sig.iloc[:arr_1], fmt='o', capsize=6)\n",
    "plt.errorbar(x_axis2, He_data.ln_D_a2.iloc[arr_1:], yerr=He_data.ln_D_a2_sig.iloc[arr_1:], fmt='o', capsize=6)\n",
    "\n",
    "#plt.savefig('.pdf') \n",
    "plt.show()"
   ]
  },
  {
   "cell_type": "markdown",
   "metadata": {},
   "source": [
    "### 4. Calculating weighted and unweighted regression for Arrhennius plot\n",
    "First we'll set up the linear regression equations\n",
    "\n",
    "DON'T FORGET TO CHANGE THE n-value to the number of datapoints to regress!!!"
   ]
  },
  {
   "cell_type": "code",
   "execution_count": 34,
   "metadata": {},
   "outputs": [],
   "source": [
    "#THIS IS FOR UNWEIGHTED LINEAR REGRESSION\n",
    "#insert n-value here. will be used for the rest of the calc\n",
    "n = \n",
    "\n",
    "def ord_lin_regress(X_vals, Y_vals):\n",
    "    \n",
    "    #hint: it helps to create arrays for XY values and X^2 (use x**2 to raise something to a power) from your input\n",
    "    #first create some empty arrays\n",
    "    \n",
    "    XY_vals = []\n",
    "    X2_vals = []\n",
    "    \n",
    "    #then try this for loop (remember that Python uses zero indexing):\n",
    "    \n",
    "    for i in range(len(X_vals)):\n",
    "        XY = X_vals[i] * Y_vals[i]\n",
    "        X2 = X_vals[i]**2\n",
    "        \n",
    "        XY_vals.append(XY)\n",
    "        X2_vals.append(X2)\n",
    "        \n",
    "    #now calculate slope and intercept below using the sum function, I'll let you try the math here\n",
    "    \n",
    "    slope = (sum(XY_vals) - (sum(X_vals)*sum(Y_vals)/n)) / (sum(X2_vals) - ((sum(X_vals)**2)/n))\n",
    "    intercept = (sum(X_vals) * sum(XY_vals) - sum(Y_vals) * sum(X2_vals)) / ((sum(X_vals)**2) - n*sum(X2_vals))\n",
    "    \n",
    "    return slope, intercept"
   ]
  },
  {
   "cell_type": "markdown",
   "metadata": {},
   "source": [
    "Now we'll calculate the slope and intercept for the Arrhenius trend. To make things easier we'll make a new dataframe only with the data we want to calculate the linear regression with."
   ]
  },
  {
   "cell_type": "code",
   "execution_count": 35,
   "metadata": {},
   "outputs": [
    {
     "name": "stdout",
     "output_type": "stream",
     "text": [
      "The unweighted slope is  -0.6226464962966083\n",
      "The unweighted intercept is  1.1683147700688759\n"
     ]
    }
   ],
   "source": [
    "#THIS IS FOR UNWEIGHTED LINEAR REGRESSION\n",
    "\n",
    "#making new lists. don't forget to change the range of datapoints\n",
    "#first define the first index after the last data for regression, or basically the last index of data for regression plus 1\n",
    "arr_limit = \n",
    "\n",
    "x_axis2 = 1e4 / (He_data.temp_degC.iloc[arr_1:arr_limit] + 273.15)\n",
    "ln_D_a2_arr = He_data.ln_D_a2.iloc[arr_1:arr_limit]\n",
    "ln_D_a2_sig_arr = He_data.ln_D_a2_sig.iloc[arr_1:arr_limit]\n",
    "\n",
    "arrhenius_data = {'temp': x_axis2, 'ln_D_a2_arr':ln_D_a2_arr, 'ln_D_a2_sig_arr':ln_D_a2_sig_arr}\n",
    "#making new dataframe and resetting index\n",
    "arr_data = pd.DataFrame(arrhenius_data)\n",
    "arr_data.reset_index(inplace=True)\n",
    "\n",
    "#now we'll do the calculation\n",
    "arrhenius = ord_lin_regress(arr_data.temp, arr_data.ln_D_a2_arr)\n",
    "\n",
    "slope_un = arrhenius[0]\n",
    "intercept_un = arrhenius[1]\n",
    "\n",
    "print('The unweighted slope is ', arrhenius[0])\n",
    "print('The unweighted intercept is ', arrhenius[1])"
   ]
  },
  {
   "cell_type": "markdown",
   "metadata": {},
   "source": [
    "#### 4.5 Weighted linear regression with errors in y (`D_a2`)\n",
    "Alternatively, we can calculate the slope and intercept using weighted linear regression, taking into account the errors in `ln_D_a2`."
   ]
  },
  {
   "cell_type": "code",
   "execution_count": 36,
   "metadata": {},
   "outputs": [
    {
     "name": "stdout",
     "output_type": "stream",
     "text": [
      "14.0\n"
     ]
    },
    {
     "data": {
      "text/html": [
       "<div>\n",
       "<style scoped>\n",
       "    .dataframe tbody tr th:only-of-type {\n",
       "        vertical-align: middle;\n",
       "    }\n",
       "\n",
       "    .dataframe tbody tr th {\n",
       "        vertical-align: top;\n",
       "    }\n",
       "\n",
       "    .dataframe thead th {\n",
       "        text-align: right;\n",
       "    }\n",
       "</style>\n",
       "<table border=\"1\" class=\"dataframe\">\n",
       "  <thead>\n",
       "    <tr style=\"text-align: right;\">\n",
       "      <th></th>\n",
       "      <th>index</th>\n",
       "      <th>temp</th>\n",
       "      <th>ln_D_a2_arr</th>\n",
       "      <th>ln_D_a2_sig_arr</th>\n",
       "      <th>w_i</th>\n",
       "    </tr>\n",
       "  </thead>\n",
       "  <tbody>\n",
       "    <tr>\n",
       "      <th>0</th>\n",
       "      <td>6</td>\n",
       "      <td>17.447440</td>\n",
       "      <td>-9.935594</td>\n",
       "      <td>0.006287</td>\n",
       "      <td>0.845146</td>\n",
       "    </tr>\n",
       "    <tr>\n",
       "      <th>1</th>\n",
       "      <td>7</td>\n",
       "      <td>18.582180</td>\n",
       "      <td>-10.462026</td>\n",
       "      <td>0.003318</td>\n",
       "      <td>3.033814</td>\n",
       "    </tr>\n",
       "    <tr>\n",
       "      <th>2</th>\n",
       "      <td>8</td>\n",
       "      <td>18.934015</td>\n",
       "      <td>-10.634421</td>\n",
       "      <td>0.003303</td>\n",
       "      <td>3.061183</td>\n",
       "    </tr>\n",
       "    <tr>\n",
       "      <th>3</th>\n",
       "      <td>9</td>\n",
       "      <td>19.487479</td>\n",
       "      <td>-10.798682</td>\n",
       "      <td>0.003398</td>\n",
       "      <td>2.893089</td>\n",
       "    </tr>\n",
       "    <tr>\n",
       "      <th>4</th>\n",
       "      <td>10</td>\n",
       "      <td>19.874789</td>\n",
       "      <td>-11.061211</td>\n",
       "      <td>0.010666</td>\n",
       "      <td>0.293649</td>\n",
       "    </tr>\n",
       "    <tr>\n",
       "      <th>5</th>\n",
       "      <td>11</td>\n",
       "      <td>20.485507</td>\n",
       "      <td>-11.431288</td>\n",
       "      <td>0.010738</td>\n",
       "      <td>0.289695</td>\n",
       "    </tr>\n",
       "    <tr>\n",
       "      <th>6</th>\n",
       "      <td>12</td>\n",
       "      <td>20.913939</td>\n",
       "      <td>-11.982127</td>\n",
       "      <td>0.006372</td>\n",
       "      <td>0.822660</td>\n",
       "    </tr>\n",
       "    <tr>\n",
       "      <th>7</th>\n",
       "      <td>13</td>\n",
       "      <td>21.591277</td>\n",
       "      <td>-12.061050</td>\n",
       "      <td>0.006378</td>\n",
       "      <td>0.821261</td>\n",
       "    </tr>\n",
       "    <tr>\n",
       "      <th>8</th>\n",
       "      <td>14</td>\n",
       "      <td>22.067748</td>\n",
       "      <td>-12.306003</td>\n",
       "      <td>0.006400</td>\n",
       "      <td>0.815640</td>\n",
       "    </tr>\n",
       "    <tr>\n",
       "      <th>9</th>\n",
       "      <td>15</td>\n",
       "      <td>22.823234</td>\n",
       "      <td>-12.864112</td>\n",
       "      <td>0.006410</td>\n",
       "      <td>0.812894</td>\n",
       "    </tr>\n",
       "    <tr>\n",
       "      <th>10</th>\n",
       "      <td>16</td>\n",
       "      <td>23.356300</td>\n",
       "      <td>-13.506905</td>\n",
       "      <td>0.020753</td>\n",
       "      <td>0.077561</td>\n",
       "    </tr>\n",
       "    <tr>\n",
       "      <th>11</th>\n",
       "      <td>17</td>\n",
       "      <td>23.632282</td>\n",
       "      <td>-13.637627</td>\n",
       "      <td>0.020736</td>\n",
       "      <td>0.077684</td>\n",
       "    </tr>\n",
       "    <tr>\n",
       "      <th>12</th>\n",
       "      <td>18</td>\n",
       "      <td>23.086691</td>\n",
       "      <td>-13.362903</td>\n",
       "      <td>0.020737</td>\n",
       "      <td>0.077677</td>\n",
       "    </tr>\n",
       "    <tr>\n",
       "      <th>13</th>\n",
       "      <td>19</td>\n",
       "      <td>22.313957</td>\n",
       "      <td>-13.029332</td>\n",
       "      <td>0.020688</td>\n",
       "      <td>0.078048</td>\n",
       "    </tr>\n",
       "  </tbody>\n",
       "</table>\n",
       "</div>"
      ],
      "text/plain": [
       "    index       temp  ln_D_a2_arr  ln_D_a2_sig_arr       w_i\n",
       "0       6  17.447440    -9.935594         0.006287  0.845146\n",
       "1       7  18.582180   -10.462026         0.003318  3.033814\n",
       "2       8  18.934015   -10.634421         0.003303  3.061183\n",
       "3       9  19.487479   -10.798682         0.003398  2.893089\n",
       "4      10  19.874789   -11.061211         0.010666  0.293649\n",
       "5      11  20.485507   -11.431288         0.010738  0.289695\n",
       "6      12  20.913939   -11.982127         0.006372  0.822660\n",
       "7      13  21.591277   -12.061050         0.006378  0.821261\n",
       "8      14  22.067748   -12.306003         0.006400  0.815640\n",
       "9      15  22.823234   -12.864112         0.006410  0.812894\n",
       "10     16  23.356300   -13.506905         0.020753  0.077561\n",
       "11     17  23.632282   -13.637627         0.020736  0.077684\n",
       "12     18  23.086691   -13.362903         0.020737  0.077677\n",
       "13     19  22.313957   -13.029332         0.020688  0.078048"
      ]
     },
     "execution_count": 36,
     "metadata": {},
     "output_type": "execute_result"
    }
   ],
   "source": [
    "#first calculate the weighing factor, w that will be used for \n",
    "w_i = []\n",
    "\n",
    "for i in range(len(arr_data)):\n",
    "    w = (n * arr_data.ln_D_a2_sig_arr[i]**(-2)) / np.sum(arr_data.ln_D_a2_sig_arr**(-2))\n",
    "    w_i.append(w)\n",
    "\n",
    "arr_data['w_i'] = w_i\n",
    "\n",
    "w_sum = np.sum(arr_data.w_i)\n",
    "print(w_sum)  # check that this is equal to the number of datapoints to regress, n\n",
    "arr_data"
   ]
  },
  {
   "cell_type": "code",
   "execution_count": 37,
   "metadata": {},
   "outputs": [
    {
     "name": "stdout",
     "output_type": "stream",
     "text": [
      "The weighted slope is  -0.5691262552412836\n",
      "The weighted intercept is  0.15088583813528292\n"
     ]
    }
   ],
   "source": [
    "wy_i = []\n",
    "wx_i = []\n",
    "wxy_i = []\n",
    "w_x2_i = []  # w * x^2\n",
    "    \n",
    "#then try this for loop (remember that Python uses zero indexing):\n",
    "    \n",
    "for i in range(len(arr_data)):\n",
    "    wy = arr_data.w_i[i] * arr_data.ln_D_a2_arr[i]\n",
    "    wx = arr_data.w_i[i] * arr_data.temp[i]\n",
    "    wxy = arr_data.w_i[i] * arr_data.temp[i] * arr_data.ln_D_a2_arr[i]\n",
    "    w_x2 = arr_data.w_i[i] * arr_data.temp[i]**2\n",
    "        \n",
    "    wy_i.append(wy)\n",
    "    wx_i.append(wx)\n",
    "    wxy_i.append(wxy)\n",
    "    w_x2_i.append(w_x2)\n",
    "        \n",
    "#now calculate slope and intercept below using the sum function, I'll let you try the math here\n",
    "    \n",
    "slope_wght = (n * sum(wxy_i) - sum(wx_i) * sum(wy_i)) / (n * sum(w_x2_i) - sum(wx_i)**2)\n",
    "intercept_wght = (sum(wy_i) - slope_wght * sum(wx_i)) / n\n",
    "\n",
    "print('The weighted slope is ', slope_wght)\n",
    "print('The weighted intercept is ', intercept_wght)"
   ]
  },
  {
   "cell_type": "markdown",
   "metadata": {},
   "source": [
    "### 5. Calculting std dev and 95% confidence interval in `slope` and `intercept` of linear regressions.\n",
    "We will use the equation in \"Chemometrics using R: Chapter 8.1\"."
   ]
  },
  {
   "cell_type": "markdown",
   "metadata": {},
   "source": [
    "#### Uncertainty for unweighted regression\n",
    "First, we will calculate the standard deviation about the regression, `s_r`."
   ]
  },
  {
   "cell_type": "code",
   "execution_count": 38,
   "metadata": {},
   "outputs": [
    {
     "name": "stdout",
     "output_type": "stream",
     "text": [
      "Standard deviation about the regression = 0.25019981929231205\n"
     ]
    }
   ],
   "source": [
    "y_min_y_2 =[]\n",
    "\n",
    "#calculating std dev about the regression, s_r. uncomment the eq you want to use\n",
    "for i in range(len(arr_data)):\n",
    "    #reg_eq = slope_un * arr_data.temp[i] + intercept_un  # unweighted linear eq\n",
    "    reg_eq = slope_wght * arr_data.temp[i] + intercept_wght  # weighted linear eq\n",
    "    yi_min_yp_2 = (arr_data.ln_D_a2_arr[i] - reg_eq) ** 2\n",
    "    \n",
    "    y_min_y_2.append(yi_min_yp_2)\n",
    "    \n",
    "s_r = np.sqrt(np.sum(y_min_y_2) / (n - 2))  # same n as in section 4\n",
    "print('Standard deviation about the regression =', s_r)"
   ]
  },
  {
   "cell_type": "markdown",
   "metadata": {},
   "source": [
    "Now, we will calculate the standard deviations for the slope, `s_slope`, and y-intercept, `s_int`. IMPORTANT: Make sure to choose which equation to use for `reg_u` above!"
   ]
  },
  {
   "cell_type": "code",
   "execution_count": 39,
   "metadata": {},
   "outputs": [
    {
     "name": "stdout",
     "output_type": "stream",
     "text": [
      "0.035415125464886586 0.7482214510316316\n"
     ]
    }
   ],
   "source": [
    "#first to calculate the mean of x (temp)\n",
    "mean_T = np.mean(arr_data.temp)\n",
    "\n",
    "x2 = []\n",
    "x_min_x2 = []\n",
    "\n",
    "# now to calculate x_i - x_expected in a for loop\n",
    "for i in range(len(arr_data)):\n",
    "    \n",
    "    x2_i = arr_data.temp[i] ** 2\n",
    "    x_min_x2_i = (arr_data.temp[i] - mean_T) ** 2\n",
    "    \n",
    "    x2.append(x2_i)\n",
    "    x_min_x2.append(x_min_x2_i)\n",
    "    \n",
    "#calculating std dev for slope and intercept\n",
    "s_slope = np.sqrt((s_r ** 2) / np.sum(x_min_x2))\n",
    "s_int = np.sqrt((s_r**2 * sum(x2)) / (n * sum(x_min_x2)))\n",
    "\n",
    "print(s_slope, s_int)"
   ]
  },
  {
   "cell_type": "markdown",
   "metadata": {},
   "source": [
    "To calculate the confidence interval, we need to select the t-test critical values `alpha_t` and degrees of freedom `df` (simply n-2). Make sure to use the two-tailed `alpha_t`. The t value can be found online (e.g., https://www.medcalc.org/manual/t-distribution-table.php)"
   ]
  },
  {
   "cell_type": "code",
   "execution_count": 40,
   "metadata": {},
   "outputs": [
    {
     "name": "stdout",
     "output_type": "stream",
     "text": [
      "0.12140305009363121 2.5649031341364332\n"
     ]
    }
   ],
   "source": [
    "# we want to calculate 95% confidence interval (alpha_T = 0.05)\n",
    "t_test =    # for n =  (df = n - 2)\n",
    "\n",
    "CI95_slope = s_slope * t_test\n",
    "CI95_int = s_int * t_test\n",
    "\n",
    "print(CI95_slope, CI95_int)"
   ]
  },
  {
   "cell_type": "markdown",
   "metadata": {},
   "source": [
    "### 6. Calculate diffusion kinetic parameters  `E_a` and `D_0` with uncertainties.\n",
    "Now we can calculate the diffusion kinetic parameters: activation energy `E_a` and frequency factor `D_0`.\n",
    "#### NOTE: only either the weighted or unweighted uncertainties can be reported at a time due to the way the code is set up in part 5."
   ]
  },
  {
   "cell_type": "code",
   "execution_count": 41,
   "metadata": {
    "scrolled": true
   },
   "outputs": [
    {
     "name": "stdout",
     "output_type": "stream",
     "text": [
      "Unweighted E_a = 51.76976859356253 ± 2.944580690542864 kJ/mol (1σ).\n",
      "Unweighted E_a = 51.76976859356253 ± 10.094022607180932 kJ/mol (95% CI).\n",
      "Unweighted D_0 = 6.955022888232929e-05 ± 7.74259698522345e-05 cm^2/s (1σ).\n",
      "Unweighted D_0 = 6.955022888232929e-05 ± 0.0008345609545969128 cm^2/s (95% CI).\n",
      "These are not the actual errors. Please see note for part 5 above.\n"
     ]
    }
   ],
   "source": [
    "#calculating activation energy and frequency factor with UNWEIGHTED lin reg\n",
    "\n",
    "E_a = - gas_constant * slope_un * 10  # in kJ/mol\n",
    "D_0 = np.exp(intercept_un) * half_width**2\n",
    "\n",
    "#uncertainty calculation.\n",
    "\n",
    "E_a_stdv = E_a - (- gas_constant * (slope_un+s_slope) * 10)\n",
    "E_a_CI95 = E_a - (- gas_constant * (slope_un+CI95_slope) * 10)\n",
    "D_0_stdev = np.exp(intercept_un+s_int) * half_width**2 - D_0\n",
    "D_0_CI95 = np.exp(intercept_un+CI95_int) * half_width**2 - D_0\n",
    "\n",
    "print(u'Unweighted E_a =', E_a, '\\u00B1', E_a_stdv, 'kJ/mol (1\\u03C3).')\n",
    "print(u'Unweighted E_a =', E_a, '\\u00B1', E_a_CI95, 'kJ/mol (95% CI).')\n",
    "print(u'Unweighted D_0 =', D_0, '\\u00B1', D_0_stdev, 'cm^2/s (1\\u03C3).')\n",
    "print(u'Unweighted D_0 =', D_0, '\\u00B1', D_0_CI95, 'cm^2/s (95% CI).')\n",
    "print('These are not the actual errors. Please see note for part 5 above.') #uncomment if necessary"
   ]
  },
  {
   "cell_type": "code",
   "execution_count": 42,
   "metadata": {},
   "outputs": [
    {
     "name": "stdout",
     "output_type": "stream",
     "text": [
      "Weighted E_a = 47.31984313668506 ± 2.944580690542864 kJ/mol (1σ).\n",
      "Weighted E_a = 47.31984313668506 ± 10.09402260718094 kJ/mol (95% CI).\n",
      "Weighted D_0 = 2.5144024586784423e-05 ± 2.799128803607489e-05 cm^2/s (1σ).\n",
      "Weighted D_0 = 2.5144024586784423e-05 ± 0.00030171318626510724 cm^2/s (95% CI).\n"
     ]
    }
   ],
   "source": [
    "#calculating activation energy and frequency factor with WEIGHTED lin reg\n",
    "\n",
    "Ea_w = - gas_constant * slope_wght * 10  # in kJ/mol\n",
    "D0_w = np.exp(intercept_wght) * half_width**2\n",
    "\n",
    "#uncertainty calculation.\n",
    "\n",
    "Ea_w_stdv = Ea_w - (- gas_constant * (slope_wght+s_slope) * 10)\n",
    "Ea_w_CI95 = Ea_w - (- gas_constant * (slope_wght+CI95_slope) * 10)\n",
    "D0_w_stdev = np.exp(intercept_wght+s_int) * half_width**2 - D0_w\n",
    "D0_w_CI95 = np.exp(intercept_wght+CI95_int) * half_width**2 - D0_w\n",
    "\n",
    "print(u'Weighted E_a =', Ea_w, '\\u00B1', Ea_w_stdv, 'kJ/mol (1\\u03C3).')\n",
    "print(u'Weighted E_a =', Ea_w, '\\u00B1', Ea_w_CI95, 'kJ/mol (95% CI).')\n",
    "print(u'Weighted D_0 =', D0_w, '\\u00B1', D0_w_stdev, 'cm^2/s (1\\u03C3).')\n",
    "print(u'Weighted D_0 =', D0_w, '\\u00B1', D0_w_CI95, 'cm^2/s (95% CI).')\n",
    "#print('These are not the actual errors. Please see note for part 5 above.') #uncomment if necessary"
   ]
  },
  {
   "cell_type": "markdown",
   "metadata": {},
   "source": [
    "### 7. Arrhenius plot with trend\n",
    "Here we will replot the Arrhenius plot with the unweighted/weighted linear reg trend."
   ]
  },
  {
   "cell_type": "code",
   "execution_count": 43,
   "metadata": {
    "scrolled": false
   },
   "outputs": [
    {
     "data": {
      "image/png": "[encoded data removed]",
      "text/plain": [
       "<Figure size 864x720 with 1 Axes>"
      ]
     },
     "metadata": {
      "needs_background": "light"
     },
     "output_type": "display_data"
    }
   ],
   "source": [
    "plt.figure(figsize = (12, 10))\n",
    "plt.xlabel(r'$10^{4}$/T ($K^{-1}$)', fontsize='12.5')\n",
    "plt.ylabel(r'ln(D/$a^{2}$', fontsize='12.5')\n",
    "plt.xlim(15, 30)\n",
    "plt.ylim(-28, -8)\n",
    "plt.xticks(fontsize=10)\n",
    "plt.yticks(fontsize=10)\n",
    "plt.title('GZ5 Arrhenius plot', fontsize='15')\n",
    "\n",
    "# now we will make the Arrhenius plot. NOTE last step (index 20) is not included\n",
    "\n",
    "x_axis1 = 1e4 / (He_data.temp_degC.iloc[:arr_1] + 273.15)\n",
    "x_axis2 = 1e4 / (He_data.temp_degC.iloc[arr_1:] + 273.15)\n",
    "x_axis_btwn = 1e4 / (He_data.temp_degC.iloc[arr_1-1:arr_1+1] + 273.15)\n",
    "x_regtrend = np.arange(16,26) # defining range of x for regression trend\n",
    "\n",
    "plt.plot(x_axis1, He_data.ln_D_a2.iloc[:arr_1], color = 'gray', linewidth=0.5)\n",
    "plt.plot(x_axis2, He_data.ln_D_a2.iloc[arr_1:], color = 'gray', linewidth=0.5)\n",
    "plt.plot(x_axis_btwn, He_data.ln_D_a2.iloc[arr_1-1:arr_1+1], color = 'gray', linewidth=0.5)\n",
    "\n",
    "# overlapping bigger datapoints\n",
    "plt.scatter(x_axis1, He_data.ln_D_a2.iloc[:arr_1], color = 'b', s=75)\n",
    "plt.scatter(x_axis2, He_data.ln_D_a2.iloc[arr_1:], color = 'm', s=75)\n",
    "\n",
    "# plotting error bars with option to magnify errors by f_err degrees\n",
    "f_err = \n",
    "\n",
    "plt.errorbar(x_axis1, He_data.ln_D_a2.iloc[:arr_1], yerr=f_err*He_data.ln_D_a2_sig.iloc[:arr_1], fmt='o', capsize=6)\n",
    "plt.errorbar(x_axis2, He_data.ln_D_a2.iloc[arr_1:], yerr=f_err*He_data.ln_D_a2_sig.iloc[arr_1:], fmt='o', capsize=6)\n",
    "\n",
    "# finally plotting\n",
    "reg_wght = slope_wght * x_regtrend + intercept_wght\n",
    "reg_unwght = slope_un * x_regtrend + intercept_un\n",
    "plt.plot(x_regtrend, reg_wght, color = 'blue')\n",
    "plt.plot(x_regtrend, reg_unwght, color = 'green')\n",
    "\n",
    "#plt.savefig('.pdf')\n",
    "plt.show()"
   ]
  },
  {
   "cell_type": "markdown",
   "metadata": {},
   "source": [
    "### 8. Calculating chi-squared and reduced chi-squared\n",
    "This is a simple test to evaluate the goodness of fit of the regression. First, we'll calculate the `chi_sq` and then we'll calculate the `red_chisq`. This method takes into account each datapoint's error, and assumes that the errors are Gaussian. Basically we are maximizing the likelihood function.\n",
    "\n",
    "To assess reduced chi-squared:\n",
    "1. If `red_chisq` > 1, it is considered a \"bad\" fit\n",
    "2. If `red_chisq` < 1, it is considered an overfit\n",
    "3. The closer `red_chisq` is to 1, the better the fit\n",
    "\n",
    "Additionally, we can also \"improve\" the reduced chi-squared (to 1) by calibrating the errors, but this is a problem for future me in part 9 of this very lengthy notebook."
   ]
  },
  {
   "cell_type": "code",
   "execution_count": 44,
   "metadata": {},
   "outputs": [
    {
     "data": {
      "text/plain": [
       "4.8217296576141075"
      ]
     },
     "execution_count": 44,
     "metadata": {},
     "output_type": "execute_result"
    }
   ],
   "source": [
    "chisq = [] # making a list of individual terms\n",
    "\n",
    "# note that `reg_eq` is either the weighted/unweighted function. see part 5\n",
    "\n",
    "for i in range(len(arr_data)):\n",
    "    unwght_reg = slope_un * arr_data.temp[i] + intercept_un  # unweighted reg eq\n",
    "    wght_reg = slope_wght * arr_data.temp[i] + intercept_wght  # weighter reg eq\n",
    "    chi = ((arr_data.ln_D_a2_arr[i] - wght_reg)**2 / (f_err*arr_data.ln_D_a2_sig_arr[i])**2)\n",
    "    \n",
    "    chisq.append(chi)\n",
    "    \n",
    "# calculating chi-squared\n",
    "chi_sq = np.sum(chisq)\n",
    "\n",
    "# now calculating reduced chi-squared, red_chisq\n",
    "red_chisq = chi_sq / (n - 2)\n",
    "\n",
    "red_chisq"
   ]
  },
  {
   "cell_type": "markdown",
   "metadata": {},
   "source": [
    "### END (FOR NOW)\n",
    "misc stuff below"
   ]
  },
  {
   "cell_type": "markdown",
   "metadata": {},
   "source": [
    "Some random but useful lines of code:"
   ]
  },
  {
   "cell_type": "code",
   "execution_count": 45,
   "metadata": {
    "scrolled": false
   },
   "outputs": [],
   "source": [
    "#adding new empty columns\n",
    "#He_data.insert(loc=4, column='temp_degC', value='')\n",
    "\n",
    "#appending new values one by one OR to replace an existing one\n",
    "#He_data.at['RS23_G168_200_1', 'temp_degC'] = 200\n",
    "#He_data.at['RS23_G168_200_1', 'time_s'] = 3600\n",
    "\n",
    "#if you need to delete a row/column for some reason\n",
    "#He_data = He_data.drop(labels=\"time_s\", axis=1)"
   ]
  },
  {
   "cell_type": "markdown",
   "metadata": {},
   "source": [
    "Calculating fraction and ln(D/${a^2}$) for the first heating step (not needed anymore but just keeping it here)"
   ]
  },
  {
   "cell_type": "code",
   "execution_count": 46,
   "metadata": {},
   "outputs": [],
   "source": [
    "#calculating first fraction, f_first and ln(D/a^2)\n",
    "\n",
    "#f_first = He_data.mol_He[0] / He_mol_total\n",
    "#ln_D_a2 = np.log((f_first**2) * (np.pi / (4 * He_data.time_s[0])))\n",
    "\n",
    "#print(f_first, ln_D_a2)\n",
    "\n",
    "#adding columns for frac, f_cum, and ln_D_a2\n",
    "#He_data['frac'] = ''\n",
    "#He_data['f_cum'] = ''\n",
    "#He_data['ln_D_a2'] = ''\n",
    "\n",
    "#appending to first row of dataframe\n",
    "\n",
    "#He_data.at['RS23_G168_150_1', 'frac'] = f_first\n",
    "#He_data.at['RS23_G168_150_1', 'ln_D_a2'] = ln_D_a2\n",
    "\n",
    "#He_data"
   ]
  }
 ],
 "metadata": {
  "kernelspec": {
   "display_name": "Python 3",
   "language": "python",
   "name": "python3"
  },
  "language_info": {
   "codemirror_mode": {
    "name": "ipython",
    "version": 3
   },
   "file_extension": ".py",
   "mimetype": "text/x-python",
   "name": "python",
   "nbconvert_exporter": "python",
   "pygments_lexer": "ipython3",
   "version": "3.8.3"
  }
 },
 "nbformat": 4,
 "nbformat_minor": 5
}
