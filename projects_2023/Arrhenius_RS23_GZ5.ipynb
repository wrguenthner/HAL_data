{
 "cells": [
  {
   "cell_type": "markdown",
   "metadata": {},
   "source": [
    "## Arrhenius plot and diffusion kinetic parameters for step-heating experiments\n",
    "\n",
    "This notebook uses the reduced JSON data file of each step-heating experiments from the HAL to create their Arrhenius plots and calculate the diffusion kinetic parameters."
   ]
  },
  {
   "cell_type": "code",
   "execution_count": 32,
   "metadata": {},
   "outputs": [],
   "source": [
    "#import packages\n",
    "import numpy as np\n",
    "import pandas as pd\n",
    "import matplotlib.pyplot as plt\n",
    "%matplotlib inline"
   ]
  },
  {
   "cell_type": "code",
   "execution_count": 33,
   "metadata": {},
   "outputs": [],
   "source": [
    "#defining some constants\n",
    "gas_constant = 8.314472   # universal gas constant in kJ/K*mol\n",
    "avogadro = 6.022e+23   # in 1/mol\n",
    "zirc_rho = 4.395  # GZ5 density in g/cm^3 from Ende et al. (2021)"
   ]
  },
  {
   "cell_type": "markdown",
   "metadata": {},
   "source": [
    "### 1. Input sample specific values\n",
    "\n",
    "In the cell below, input all necessary information for the specific sample."
   ]
  },
  {
   "cell_type": "code",
   "execution_count": 34,
   "metadata": {},
   "outputs": [],
   "source": [
    "Sample_ID = 'RS23_GZ5'\n",
    "\n",
    "#slab dimensions in microns\n",
    "width = 93\n",
    "length_1 = 528\n",
    "length_2 = 580\n",
    "\n",
    "#alpha dose\n",
    "alpha = 3.97e18 # /gram\n",
    "\n",
    "half_width = (width/2) / 1e4 # in cm"
   ]
  },
  {
   "cell_type": "code",
   "execution_count": 35,
   "metadata": {},
   "outputs": [
    {
     "name": "stdout",
     "output_type": "stream",
     "text": [
      "8.251891321952839e-10  mol\n"
     ]
    }
   ],
   "source": [
    "#calculating volume \n",
    "\n",
    "vol = (width * length_1 * length_2) / 1e12  # in cm^3\n",
    "\n",
    "#calculating volumetric mol of He\n",
    "\n",
    "He_mol_total = ((vol * zirc_rho) * alpha) / avogadro   # in mol\n",
    "#vol_He = (1e15 * (vol * zirc_rho) * alpha) / avogadro  # in fmol\n",
    "\n",
    "#vol_He_sci = \"{:e}\".format(vol_He)\n",
    "#print(vol_He_sci)\n",
    "\n",
    "print(He_mol_total, ' mol')"
   ]
  },
  {
   "cell_type": "markdown",
   "metadata": {},
   "source": [
    "### 2. Import JSON file\n",
    "Use the script below to read a JSON from a local file. Simply input the name of the JSON file as `filename.json`. IMPORTANT: the file needs to be in the same directory as this notebook."
   ]
  },
  {
   "cell_type": "code",
   "execution_count": 36,
   "metadata": {
    "scrolled": true
   },
   "outputs": [
    {
     "data": {
      "text/html": [
       "<div>\n",
       "<style scoped>\n",
       "    .dataframe tbody tr th:only-of-type {\n",
       "        vertical-align: middle;\n",
       "    }\n",
       "\n",
       "    .dataframe tbody tr th {\n",
       "        vertical-align: top;\n",
       "    }\n",
       "\n",
       "    .dataframe thead th {\n",
       "        text-align: right;\n",
       "    }\n",
       "</style>\n",
       "<table border=\"1\" class=\"dataframe\">\n",
       "  <thead>\n",
       "    <tr style=\"text-align: right;\">\n",
       "      <th></th>\n",
       "      <th>sample_ID</th>\n",
       "      <th>ncc_4He</th>\n",
       "      <th>ncc_4He_1sig</th>\n",
       "      <th>mol_He</th>\n",
       "      <th>mol_He_1sig</th>\n",
       "      <th>notes</th>\n",
       "      <th>temp_degC</th>\n",
       "      <th>time_s</th>\n",
       "    </tr>\n",
       "  </thead>\n",
       "  <tbody>\n",
       "    <tr>\n",
       "      <th>0</th>\n",
       "      <td>RS23_GZ5_150_1</td>\n",
       "      <td>20.207936</td>\n",
       "      <td>0.051128</td>\n",
       "      <td>9.015765e-13</td>\n",
       "      <td>2.281068e-15</td>\n",
       "      <td>None</td>\n",
       "      <td>150</td>\n",
       "      <td>3600</td>\n",
       "    </tr>\n",
       "    <tr>\n",
       "      <th>1</th>\n",
       "      <td>RS23_GZ5_175_1</td>\n",
       "      <td>24.695299</td>\n",
       "      <td>0.062088</td>\n",
       "      <td>1.101780e-12</td>\n",
       "      <td>2.770034e-15</td>\n",
       "      <td>None</td>\n",
       "      <td>175</td>\n",
       "      <td>3600</td>\n",
       "    </tr>\n",
       "    <tr>\n",
       "      <th>2</th>\n",
       "      <td>RS23_GZ5_200_1</td>\n",
       "      <td>57.294420</td>\n",
       "      <td>0.142545</td>\n",
       "      <td>2.556189e-12</td>\n",
       "      <td>6.359651e-15</td>\n",
       "      <td>None</td>\n",
       "      <td>200</td>\n",
       "      <td>3600</td>\n",
       "    </tr>\n",
       "    <tr>\n",
       "      <th>3</th>\n",
       "      <td>RS23_GZ5_225_1</td>\n",
       "      <td>102.001992</td>\n",
       "      <td>0.253470</td>\n",
       "      <td>4.550816e-12</td>\n",
       "      <td>1.130857e-14</td>\n",
       "      <td>None</td>\n",
       "      <td>225</td>\n",
       "      <td>3600</td>\n",
       "    </tr>\n",
       "    <tr>\n",
       "      <th>4</th>\n",
       "      <td>RS23_GZ5_250_1</td>\n",
       "      <td>169.459215</td>\n",
       "      <td>0.421090</td>\n",
       "      <td>7.560418e-12</td>\n",
       "      <td>1.878691e-14</td>\n",
       "      <td>None</td>\n",
       "      <td>250</td>\n",
       "      <td>3600</td>\n",
       "    </tr>\n",
       "    <tr>\n",
       "      <th>5</th>\n",
       "      <td>RS23_GZ5_275_1</td>\n",
       "      <td>3102.410676</td>\n",
       "      <td>24.116437</td>\n",
       "      <td>1.384140e-10</td>\n",
       "      <td>1.075954e-12</td>\n",
       "      <td></td>\n",
       "      <td>275</td>\n",
       "      <td>3600</td>\n",
       "    </tr>\n",
       "    <tr>\n",
       "      <th>6</th>\n",
       "      <td>RS23_GZ5_300_1</td>\n",
       "      <td>2484.695101</td>\n",
       "      <td>19.314656</td>\n",
       "      <td>1.108546e-10</td>\n",
       "      <td>8.617229e-13</td>\n",
       "      <td></td>\n",
       "      <td>300</td>\n",
       "      <td>1800</td>\n",
       "    </tr>\n",
       "  </tbody>\n",
       "</table>\n",
       "</div>"
      ],
      "text/plain": [
       "        sample_ID      ncc_4He  ncc_4He_1sig        mol_He   mol_He_1sig  \\\n",
       "0  RS23_GZ5_150_1    20.207936      0.051128  9.015765e-13  2.281068e-15   \n",
       "1  RS23_GZ5_175_1    24.695299      0.062088  1.101780e-12  2.770034e-15   \n",
       "2  RS23_GZ5_200_1    57.294420      0.142545  2.556189e-12  6.359651e-15   \n",
       "3  RS23_GZ5_225_1   102.001992      0.253470  4.550816e-12  1.130857e-14   \n",
       "4  RS23_GZ5_250_1   169.459215      0.421090  7.560418e-12  1.878691e-14   \n",
       "5  RS23_GZ5_275_1  3102.410676     24.116437  1.384140e-10  1.075954e-12   \n",
       "6  RS23_GZ5_300_1  2484.695101     19.314656  1.108546e-10  8.617229e-13   \n",
       "\n",
       "  notes  temp_degC  time_s  \n",
       "0  None        150    3600  \n",
       "1  None        175    3600  \n",
       "2  None        200    3600  \n",
       "3  None        225    3600  \n",
       "4  None        250    3600  \n",
       "5              275    3600  \n",
       "6              300    1800  "
      ]
     },
     "execution_count": 36,
     "metadata": {},
     "output_type": "execute_result"
    }
   ],
   "source": [
    "He_data = pd.read_json('RS23_GZ5_diff_cell_He_data.json', orient='index')\n",
    "\n",
    "# adding column name to the respective columns\n",
    "He_data.reset_index(inplace=True)  # assigning simple index for ease of calculation\n",
    "He_data.columns =['sample_ID' , 'ncc_4He' , 'ncc_4He_1sig' , 'mol_He' , 'mol_He_1sig' , 'notes' , 'temp_degC', 'time_s']\n",
    "\n",
    "He_data"
   ]
  },
  {
   "cell_type": "markdown",
   "metadata": {},
   "source": [
    "#### Appending temperature, time, and cumulative time\n",
    "\n",
    "The easiest way would be to compile the heating temperature and time in an excel file (with column labels) and appending it to the data frame.\n",
    "\n",
    "If temp and time were input in `He_line_calc_diff_cell.ipynb` script, then now just need to calculate `t_cum`."
   ]
  },
  {
   "cell_type": "code",
   "execution_count": 37,
   "metadata": {
    "scrolled": true
   },
   "outputs": [
    {
     "data": {
      "text/html": [
       "<div>\n",
       "<style scoped>\n",
       "    .dataframe tbody tr th:only-of-type {\n",
       "        vertical-align: middle;\n",
       "    }\n",
       "\n",
       "    .dataframe tbody tr th {\n",
       "        vertical-align: top;\n",
       "    }\n",
       "\n",
       "    .dataframe thead th {\n",
       "        text-align: right;\n",
       "    }\n",
       "</style>\n",
       "<table border=\"1\" class=\"dataframe\">\n",
       "  <thead>\n",
       "    <tr style=\"text-align: right;\">\n",
       "      <th></th>\n",
       "      <th>sample_ID</th>\n",
       "      <th>ncc_4He</th>\n",
       "      <th>ncc_4He_1sig</th>\n",
       "      <th>mol_He</th>\n",
       "      <th>mol_He_1sig</th>\n",
       "      <th>notes</th>\n",
       "      <th>temp_degC</th>\n",
       "      <th>time_s</th>\n",
       "      <th>t_cum</th>\n",
       "    </tr>\n",
       "  </thead>\n",
       "  <tbody>\n",
       "    <tr>\n",
       "      <th>0</th>\n",
       "      <td>RS23_GZ5_150_1</td>\n",
       "      <td>20.207936</td>\n",
       "      <td>0.051128</td>\n",
       "      <td>9.015765e-13</td>\n",
       "      <td>2.281068e-15</td>\n",
       "      <td>None</td>\n",
       "      <td>150</td>\n",
       "      <td>3600</td>\n",
       "      <td>3600</td>\n",
       "    </tr>\n",
       "    <tr>\n",
       "      <th>1</th>\n",
       "      <td>RS23_GZ5_175_1</td>\n",
       "      <td>24.695299</td>\n",
       "      <td>0.062088</td>\n",
       "      <td>1.101780e-12</td>\n",
       "      <td>2.770034e-15</td>\n",
       "      <td>None</td>\n",
       "      <td>175</td>\n",
       "      <td>3600</td>\n",
       "      <td>7200</td>\n",
       "    </tr>\n",
       "    <tr>\n",
       "      <th>2</th>\n",
       "      <td>RS23_GZ5_200_1</td>\n",
       "      <td>57.294420</td>\n",
       "      <td>0.142545</td>\n",
       "      <td>2.556189e-12</td>\n",
       "      <td>6.359651e-15</td>\n",
       "      <td>None</td>\n",
       "      <td>200</td>\n",
       "      <td>3600</td>\n",
       "      <td>10800</td>\n",
       "    </tr>\n",
       "    <tr>\n",
       "      <th>3</th>\n",
       "      <td>RS23_GZ5_225_1</td>\n",
       "      <td>102.001992</td>\n",
       "      <td>0.253470</td>\n",
       "      <td>4.550816e-12</td>\n",
       "      <td>1.130857e-14</td>\n",
       "      <td>None</td>\n",
       "      <td>225</td>\n",
       "      <td>3600</td>\n",
       "      <td>14400</td>\n",
       "    </tr>\n",
       "    <tr>\n",
       "      <th>4</th>\n",
       "      <td>RS23_GZ5_250_1</td>\n",
       "      <td>169.459215</td>\n",
       "      <td>0.421090</td>\n",
       "      <td>7.560418e-12</td>\n",
       "      <td>1.878691e-14</td>\n",
       "      <td>None</td>\n",
       "      <td>250</td>\n",
       "      <td>3600</td>\n",
       "      <td>18000</td>\n",
       "    </tr>\n",
       "    <tr>\n",
       "      <th>5</th>\n",
       "      <td>RS23_GZ5_275_1</td>\n",
       "      <td>3102.410676</td>\n",
       "      <td>24.116437</td>\n",
       "      <td>1.384140e-10</td>\n",
       "      <td>1.075954e-12</td>\n",
       "      <td></td>\n",
       "      <td>275</td>\n",
       "      <td>3600</td>\n",
       "      <td>21600</td>\n",
       "    </tr>\n",
       "    <tr>\n",
       "      <th>6</th>\n",
       "      <td>RS23_GZ5_300_1</td>\n",
       "      <td>2484.695101</td>\n",
       "      <td>19.314656</td>\n",
       "      <td>1.108546e-10</td>\n",
       "      <td>8.617229e-13</td>\n",
       "      <td></td>\n",
       "      <td>300</td>\n",
       "      <td>1800</td>\n",
       "      <td>23400</td>\n",
       "    </tr>\n",
       "  </tbody>\n",
       "</table>\n",
       "</div>"
      ],
      "text/plain": [
       "        sample_ID      ncc_4He  ncc_4He_1sig        mol_He   mol_He_1sig  \\\n",
       "0  RS23_GZ5_150_1    20.207936      0.051128  9.015765e-13  2.281068e-15   \n",
       "1  RS23_GZ5_175_1    24.695299      0.062088  1.101780e-12  2.770034e-15   \n",
       "2  RS23_GZ5_200_1    57.294420      0.142545  2.556189e-12  6.359651e-15   \n",
       "3  RS23_GZ5_225_1   102.001992      0.253470  4.550816e-12  1.130857e-14   \n",
       "4  RS23_GZ5_250_1   169.459215      0.421090  7.560418e-12  1.878691e-14   \n",
       "5  RS23_GZ5_275_1  3102.410676     24.116437  1.384140e-10  1.075954e-12   \n",
       "6  RS23_GZ5_300_1  2484.695101     19.314656  1.108546e-10  8.617229e-13   \n",
       "\n",
       "  notes  temp_degC  time_s  t_cum  \n",
       "0  None        150    3600   3600  \n",
       "1  None        175    3600   7200  \n",
       "2  None        200    3600  10800  \n",
       "3  None        225    3600  14400  \n",
       "4  None        250    3600  18000  \n",
       "5              275    3600  21600  \n",
       "6              300    1800  23400  "
      ]
     },
     "execution_count": 37,
     "metadata": {},
     "output_type": "execute_result"
    }
   ],
   "source": [
    "#adding new columns from excel\n",
    "#temp_time = pd.read_excel('G168_heating_tT.xlsx')\n",
    "\n",
    "#He_data['temp_degC'] = temp_time ['temp_degC'].values\n",
    "#He_data['time_s'] = temp_time ['time_s'].values\n",
    "\n",
    "#adding new column for cumulative time in s\n",
    "He_data['t_cum'] = He_data['time_s'].cumsum()\n",
    "\n",
    "He_data"
   ]
  },
  {
   "cell_type": "markdown",
   "metadata": {},
   "source": [
    "### 3. Making an Arrhenius plot\n",
    "#### Calculating the fraction released `frac`, cumulative fraction released `f_cum`, and ln(D/${a^2}$) `ln_D_a2` for all the heating steps."
   ]
  },
  {
   "cell_type": "code",
   "execution_count": 38,
   "metadata": {
    "scrolled": true
   },
   "outputs": [
    {
     "data": {
      "text/html": [
       "<div>\n",
       "<style scoped>\n",
       "    .dataframe tbody tr th:only-of-type {\n",
       "        vertical-align: middle;\n",
       "    }\n",
       "\n",
       "    .dataframe tbody tr th {\n",
       "        vertical-align: top;\n",
       "    }\n",
       "\n",
       "    .dataframe thead th {\n",
       "        text-align: right;\n",
       "    }\n",
       "</style>\n",
       "<table border=\"1\" class=\"dataframe\">\n",
       "  <thead>\n",
       "    <tr style=\"text-align: right;\">\n",
       "      <th></th>\n",
       "      <th>sample_ID</th>\n",
       "      <th>ncc_4He</th>\n",
       "      <th>ncc_4He_1sig</th>\n",
       "      <th>mol_He</th>\n",
       "      <th>mol_He_1sig</th>\n",
       "      <th>notes</th>\n",
       "      <th>temp_degC</th>\n",
       "      <th>time_s</th>\n",
       "      <th>t_cum</th>\n",
       "      <th>frac</th>\n",
       "      <th>f_cum</th>\n",
       "      <th>ln_D_a2</th>\n",
       "    </tr>\n",
       "  </thead>\n",
       "  <tbody>\n",
       "    <tr>\n",
       "      <th>0</th>\n",
       "      <td>RS23_GZ5_150_1</td>\n",
       "      <td>20.207936</td>\n",
       "      <td>0.051128</td>\n",
       "      <td>9.015765e-13</td>\n",
       "      <td>2.281068e-15</td>\n",
       "      <td>None</td>\n",
       "      <td>150</td>\n",
       "      <td>3600</td>\n",
       "      <td>3600</td>\n",
       "      <td>0.001093</td>\n",
       "      <td>0.001093</td>\n",
       "      <td>-22.068700</td>\n",
       "    </tr>\n",
       "    <tr>\n",
       "      <th>1</th>\n",
       "      <td>RS23_GZ5_175_1</td>\n",
       "      <td>24.695299</td>\n",
       "      <td>0.062088</td>\n",
       "      <td>1.101780e-12</td>\n",
       "      <td>2.770034e-15</td>\n",
       "      <td>None</td>\n",
       "      <td>175</td>\n",
       "      <td>3600</td>\n",
       "      <td>7200</td>\n",
       "      <td>0.001335</td>\n",
       "      <td>0.002428</td>\n",
       "      <td>-20.698141</td>\n",
       "    </tr>\n",
       "    <tr>\n",
       "      <th>2</th>\n",
       "      <td>RS23_GZ5_200_1</td>\n",
       "      <td>57.294420</td>\n",
       "      <td>0.142545</td>\n",
       "      <td>2.556189e-12</td>\n",
       "      <td>6.359651e-15</td>\n",
       "      <td>None</td>\n",
       "      <td>200</td>\n",
       "      <td>3600</td>\n",
       "      <td>10800</td>\n",
       "      <td>0.003098</td>\n",
       "      <td>0.005525</td>\n",
       "      <td>-19.041528</td>\n",
       "    </tr>\n",
       "    <tr>\n",
       "      <th>3</th>\n",
       "      <td>RS23_GZ5_225_1</td>\n",
       "      <td>102.001992</td>\n",
       "      <td>0.253470</td>\n",
       "      <td>4.550816e-12</td>\n",
       "      <td>1.130857e-14</td>\n",
       "      <td>None</td>\n",
       "      <td>225</td>\n",
       "      <td>3600</td>\n",
       "      <td>14400</td>\n",
       "      <td>0.005515</td>\n",
       "      <td>0.011040</td>\n",
       "      <td>-17.730975</td>\n",
       "    </tr>\n",
       "    <tr>\n",
       "      <th>4</th>\n",
       "      <td>RS23_GZ5_250_1</td>\n",
       "      <td>169.459215</td>\n",
       "      <td>0.421090</td>\n",
       "      <td>7.560418e-12</td>\n",
       "      <td>1.878691e-14</td>\n",
       "      <td>None</td>\n",
       "      <td>250</td>\n",
       "      <td>3600</td>\n",
       "      <td>18000</td>\n",
       "      <td>0.009162</td>\n",
       "      <td>0.020202</td>\n",
       "      <td>-16.588909</td>\n",
       "    </tr>\n",
       "    <tr>\n",
       "      <th>5</th>\n",
       "      <td>RS23_GZ5_275_1</td>\n",
       "      <td>3102.410676</td>\n",
       "      <td>24.116437</td>\n",
       "      <td>1.384140e-10</td>\n",
       "      <td>1.075954e-12</td>\n",
       "      <td></td>\n",
       "      <td>275</td>\n",
       "      <td>3600</td>\n",
       "      <td>21600</td>\n",
       "      <td>0.167736</td>\n",
       "      <td>0.187938</td>\n",
       "      <td>-11.785158</td>\n",
       "    </tr>\n",
       "    <tr>\n",
       "      <th>6</th>\n",
       "      <td>RS23_GZ5_300_1</td>\n",
       "      <td>2484.695101</td>\n",
       "      <td>19.314656</td>\n",
       "      <td>1.108546e-10</td>\n",
       "      <td>8.617229e-13</td>\n",
       "      <td></td>\n",
       "      <td>300</td>\n",
       "      <td>1800</td>\n",
       "      <td>23400</td>\n",
       "      <td>0.134338</td>\n",
       "      <td>0.322277</td>\n",
       "      <td>-10.417422</td>\n",
       "    </tr>\n",
       "  </tbody>\n",
       "</table>\n",
       "</div>"
      ],
      "text/plain": [
       "        sample_ID      ncc_4He  ncc_4He_1sig        mol_He   mol_He_1sig  \\\n",
       "0  RS23_GZ5_150_1    20.207936      0.051128  9.015765e-13  2.281068e-15   \n",
       "1  RS23_GZ5_175_1    24.695299      0.062088  1.101780e-12  2.770034e-15   \n",
       "2  RS23_GZ5_200_1    57.294420      0.142545  2.556189e-12  6.359651e-15   \n",
       "3  RS23_GZ5_225_1   102.001992      0.253470  4.550816e-12  1.130857e-14   \n",
       "4  RS23_GZ5_250_1   169.459215      0.421090  7.560418e-12  1.878691e-14   \n",
       "5  RS23_GZ5_275_1  3102.410676     24.116437  1.384140e-10  1.075954e-12   \n",
       "6  RS23_GZ5_300_1  2484.695101     19.314656  1.108546e-10  8.617229e-13   \n",
       "\n",
       "  notes  temp_degC  time_s  t_cum      frac     f_cum    ln_D_a2  \n",
       "0  None        150    3600   3600  0.001093  0.001093 -22.068700  \n",
       "1  None        175    3600   7200  0.001335  0.002428 -20.698141  \n",
       "2  None        200    3600  10800  0.003098  0.005525 -19.041528  \n",
       "3  None        225    3600  14400  0.005515  0.011040 -17.730975  \n",
       "4  None        250    3600  18000  0.009162  0.020202 -16.588909  \n",
       "5              275    3600  21600  0.167736  0.187938 -11.785158  \n",
       "6              300    1800  23400  0.134338  0.322277 -10.417422  "
      ]
     },
     "execution_count": 38,
     "metadata": {},
     "output_type": "execute_result"
    }
   ],
   "source": [
    "#empty lists that we'll append to\n",
    "frac = []\n",
    "ln_D_a2 = []\n",
    "\n",
    "#calculating just the fraction released at individual steps\n",
    "\n",
    "for i in range(len(He_data)):\n",
    "    frac = He_data.mol_He / He_mol_total\n",
    "\n",
    "He_data['frac'] = frac\n",
    "\n",
    "#calculating cumulative fraction released and putting it into a new column\n",
    "He_data['f_cum'] = He_data['frac'].cumsum()\n",
    "\n",
    "#now calculating ln(D/a^2)\n",
    "for i in range(len(He_data)):\n",
    "\n",
    "    if i == 0:\n",
    "        ln_Da2 = np.log((He_data.f_cum[i] ** 2) * (np.pi / (4 * He_data.time_s[i])))\n",
    "    \n",
    "    else:\n",
    "        ln_Da2 = np.log((np.pi * (He_data.f_cum[i]**2 - He_data.f_cum[i-1]**2)) / (4 * He_data.time_s[i]))\n",
    "        \n",
    "    ln_D_a2.append(ln_Da2) \n",
    "\n",
    "#adding list into dataframe\n",
    "He_data['ln_D_a2'] = ln_D_a2\n",
    "\n",
    "He_data"
   ]
  },
  {
   "cell_type": "markdown",
   "metadata": {},
   "source": [
    "#### Calculating uncertainties for `D_a2`.\n",
    "\n",
    "We will use equations 20 and 24 of Ginster (2018, dissertation) to calculate the uncertainty for `D_a2`."
   ]
  },
  {
   "cell_type": "code",
   "execution_count": 39,
   "metadata": {
    "scrolled": true
   },
   "outputs": [
    {
     "data": {
      "text/html": [
       "<div>\n",
       "<style scoped>\n",
       "    .dataframe tbody tr th:only-of-type {\n",
       "        vertical-align: middle;\n",
       "    }\n",
       "\n",
       "    .dataframe tbody tr th {\n",
       "        vertical-align: top;\n",
       "    }\n",
       "\n",
       "    .dataframe thead th {\n",
       "        text-align: right;\n",
       "    }\n",
       "</style>\n",
       "<table border=\"1\" class=\"dataframe\">\n",
       "  <thead>\n",
       "    <tr style=\"text-align: right;\">\n",
       "      <th></th>\n",
       "      <th>sample_ID</th>\n",
       "      <th>ncc_4He</th>\n",
       "      <th>ncc_4He_1sig</th>\n",
       "      <th>mol_He</th>\n",
       "      <th>mol_He_1sig</th>\n",
       "      <th>notes</th>\n",
       "      <th>temp_degC</th>\n",
       "      <th>time_s</th>\n",
       "      <th>t_cum</th>\n",
       "      <th>frac</th>\n",
       "      <th>f_cum</th>\n",
       "      <th>ln_D_a2</th>\n",
       "      <th>ln_D_a2_sig</th>\n",
       "    </tr>\n",
       "  </thead>\n",
       "  <tbody>\n",
       "    <tr>\n",
       "      <th>0</th>\n",
       "      <td>RS23_GZ5_150_1</td>\n",
       "      <td>20.207936</td>\n",
       "      <td>0.051128</td>\n",
       "      <td>9.015765e-13</td>\n",
       "      <td>2.281068e-15</td>\n",
       "      <td>None</td>\n",
       "      <td>150</td>\n",
       "      <td>3600</td>\n",
       "      <td>3600</td>\n",
       "      <td>0.001093</td>\n",
       "      <td>0.001093</td>\n",
       "      <td>-22.068700</td>\n",
       "      <td>0.006041</td>\n",
       "    </tr>\n",
       "    <tr>\n",
       "      <th>1</th>\n",
       "      <td>RS23_GZ5_175_1</td>\n",
       "      <td>24.695299</td>\n",
       "      <td>0.062088</td>\n",
       "      <td>1.101780e-12</td>\n",
       "      <td>2.770034e-15</td>\n",
       "      <td>None</td>\n",
       "      <td>175</td>\n",
       "      <td>3600</td>\n",
       "      <td>7200</td>\n",
       "      <td>0.001335</td>\n",
       "      <td>0.002428</td>\n",
       "      <td>-20.698141</td>\n",
       "      <td>0.005046</td>\n",
       "    </tr>\n",
       "    <tr>\n",
       "      <th>2</th>\n",
       "      <td>RS23_GZ5_200_1</td>\n",
       "      <td>57.294420</td>\n",
       "      <td>0.142545</td>\n",
       "      <td>2.556189e-12</td>\n",
       "      <td>6.359651e-15</td>\n",
       "      <td>None</td>\n",
       "      <td>200</td>\n",
       "      <td>3600</td>\n",
       "      <td>10800</td>\n",
       "      <td>0.003098</td>\n",
       "      <td>0.005525</td>\n",
       "      <td>-19.041528</td>\n",
       "      <td>0.004906</td>\n",
       "    </tr>\n",
       "    <tr>\n",
       "      <th>3</th>\n",
       "      <td>RS23_GZ5_225_1</td>\n",
       "      <td>102.001992</td>\n",
       "      <td>0.253470</td>\n",
       "      <td>4.550816e-12</td>\n",
       "      <td>1.130857e-14</td>\n",
       "      <td>None</td>\n",
       "      <td>225</td>\n",
       "      <td>3600</td>\n",
       "      <td>14400</td>\n",
       "      <td>0.005515</td>\n",
       "      <td>0.011040</td>\n",
       "      <td>-17.730975</td>\n",
       "      <td>0.004790</td>\n",
       "    </tr>\n",
       "    <tr>\n",
       "      <th>4</th>\n",
       "      <td>RS23_GZ5_250_1</td>\n",
       "      <td>169.459215</td>\n",
       "      <td>0.421090</td>\n",
       "      <td>7.560418e-12</td>\n",
       "      <td>1.878691e-14</td>\n",
       "      <td>None</td>\n",
       "      <td>250</td>\n",
       "      <td>3600</td>\n",
       "      <td>18000</td>\n",
       "      <td>0.009162</td>\n",
       "      <td>0.020202</td>\n",
       "      <td>-16.588909</td>\n",
       "      <td>0.004703</td>\n",
       "    </tr>\n",
       "    <tr>\n",
       "      <th>5</th>\n",
       "      <td>RS23_GZ5_275_1</td>\n",
       "      <td>3102.410676</td>\n",
       "      <td>24.116437</td>\n",
       "      <td>1.384140e-10</td>\n",
       "      <td>1.075954e-12</td>\n",
       "      <td></td>\n",
       "      <td>275</td>\n",
       "      <td>3600</td>\n",
       "      <td>21600</td>\n",
       "      <td>0.167736</td>\n",
       "      <td>0.187938</td>\n",
       "      <td>-11.785158</td>\n",
       "      <td>0.011554</td>\n",
       "    </tr>\n",
       "    <tr>\n",
       "      <th>6</th>\n",
       "      <td>RS23_GZ5_300_1</td>\n",
       "      <td>2484.695101</td>\n",
       "      <td>19.314656</td>\n",
       "      <td>1.108546e-10</td>\n",
       "      <td>8.617229e-13</td>\n",
       "      <td></td>\n",
       "      <td>300</td>\n",
       "      <td>1800</td>\n",
       "      <td>23400</td>\n",
       "      <td>0.134338</td>\n",
       "      <td>0.322277</td>\n",
       "      <td>-10.417422</td>\n",
       "      <td>0.008094</td>\n",
       "    </tr>\n",
       "  </tbody>\n",
       "</table>\n",
       "</div>"
      ],
      "text/plain": [
       "        sample_ID      ncc_4He  ncc_4He_1sig        mol_He   mol_He_1sig  \\\n",
       "0  RS23_GZ5_150_1    20.207936      0.051128  9.015765e-13  2.281068e-15   \n",
       "1  RS23_GZ5_175_1    24.695299      0.062088  1.101780e-12  2.770034e-15   \n",
       "2  RS23_GZ5_200_1    57.294420      0.142545  2.556189e-12  6.359651e-15   \n",
       "3  RS23_GZ5_225_1   102.001992      0.253470  4.550816e-12  1.130857e-14   \n",
       "4  RS23_GZ5_250_1   169.459215      0.421090  7.560418e-12  1.878691e-14   \n",
       "5  RS23_GZ5_275_1  3102.410676     24.116437  1.384140e-10  1.075954e-12   \n",
       "6  RS23_GZ5_300_1  2484.695101     19.314656  1.108546e-10  8.617229e-13   \n",
       "\n",
       "  notes  temp_degC  time_s  t_cum      frac     f_cum    ln_D_a2  ln_D_a2_sig  \n",
       "0  None        150    3600   3600  0.001093  0.001093 -22.068700     0.006041  \n",
       "1  None        175    3600   7200  0.001335  0.002428 -20.698141     0.005046  \n",
       "2  None        200    3600  10800  0.003098  0.005525 -19.041528     0.004906  \n",
       "3  None        225    3600  14400  0.005515  0.011040 -17.730975     0.004790  \n",
       "4  None        250    3600  18000  0.009162  0.020202 -16.588909     0.004703  \n",
       "5              275    3600  21600  0.167736  0.187938 -11.785158     0.011554  \n",
       "6              300    1800  23400  0.134338  0.322277 -10.417422     0.008094  "
      ]
     },
     "execution_count": 39,
     "metadata": {},
     "output_type": "execute_result"
    }
   ],
   "source": [
    "#empty lists that we'll append to\n",
    "ln_D_a2_sig = []\n",
    "\n",
    "#now calculating 1-sigma uncertainty for ln(D/a^2)\n",
    "for i in range(len(He_data)):\n",
    "\n",
    "    if i == 0:\n",
    "        long_eq = ((1 - He_data.f_cum[i]) * He_data.mol_He_1sig[i])**2 + (He_data.f_cum[i]**2) \\\n",
    "                    * np.sum(np.square(He_data.mol_He_1sig[0:]))\n",
    "        Da2_sig = ((np.pi/(2 * He_data.time_s[i])) * (He_data.f_cum[i]/He_mol_total) * np.sqrt(long_eq))\n",
    "        ln_Da2_sig = np.log(np.exp(He_data.ln_D_a2[i]) + Da2_sig) - He_data.ln_D_a2[i]\n",
    "    \n",
    "    else:\n",
    "        long_eq1 = ((He_data.f_cum[i] * (1 - He_data.f_cum[i]) - He_data.f_cum[i-1] * (1 - He_data.f_cum[i-1]))**2) \\\n",
    "                    * np.sum(He_data.mol_He_1sig[:i]**2)\n",
    "        long_eq2 = ((He_data.f_cum[i] * (1 - He_data.f_cum[i]) + He_data.f_cum[i-1]**2)**2) \\\n",
    "                    * He_data.mol_He_1sig[i]**2\n",
    "        long_eq3 = ((He_data.f_cum[i-1]**2 - He_data.f_cum[i]**2)**2) \\\n",
    "                    * np.sum(np.square(He_data.mol_He_1sig[i+1:]))\n",
    "        Da2_sig2 = ((np.pi/(2 * He_data.time_s[i] * He_mol_total)) * np.sqrt(long_eq1 + long_eq2 + long_eq3))\n",
    "        ln_Da2_sig = np.log(np.exp(He_data.ln_D_a2[i]) + Da2_sig2) - He_data.ln_D_a2[i]\n",
    "        \n",
    "    ln_D_a2_sig.append(ln_Da2_sig) \n",
    "\n",
    "#adding list into dataframe\n",
    "He_data['ln_D_a2_sig'] = ln_D_a2_sig\n",
    "\n",
    "He_data"
   ]
  },
  {
   "cell_type": "markdown",
   "metadata": {},
   "source": [
    "#### Now plotting `ln_D_a2` vs 1e4/T(K)\n",
    "Temperature is listed as degree C, so we'd need to convert that and divide it by 1e4. In order to be able to easily calculate linear regression and visualize linear vs non-linear trends, we will plot these separately. Therefore, the index number for the last NAB step should be changed for each experiment."
   ]
  },
  {
   "cell_type": "code",
   "execution_count": 40,
   "metadata": {},
   "outputs": [
    {
     "data": {
      "image/png": "[encoded data removed]",
      "text/plain": [
       "<Figure size 1008x864 with 1 Axes>"
      ]
     },
     "metadata": {
      "needs_background": "light"
     },
     "output_type": "display_data"
    }
   ],
   "source": [
    "plt.figure(figsize = (14, 12))\n",
    "plt.xlabel(r'$10^{4}$/T ($K^{-1}$)', fontsize='12.5')\n",
    "plt.ylabel(r'ln(D/$a^{2}$', fontsize='12.5')\n",
    "plt.xlim(11, 25)\n",
    "plt.ylim(-26, -8)\n",
    "plt.xticks(fontsize=10)\n",
    "plt.yticks(fontsize=10)\n",
    "plt.title(' Arrhenius plot', fontsize='15')\n",
    "\n",
    "# FIRST OF ALL input the index for the FIRST Arrhenius datapoint that will be used for regression\n",
    "\n",
    "arr_1 = 5\n",
    "\n",
    "\n",
    "# now we will make the Arrhenius plot\n",
    "\n",
    "x_axis1 = 1e4 / (He_data.temp_degC.iloc[:arr_1] + 273.15)\n",
    "x_axis2 = 1e4 / (He_data.temp_degC.iloc[arr_1:] + 273.15)\n",
    "\n",
    "ln_D_a2_arr = He_data.ln_D_a2.iloc[arr_1:]\n",
    "\n",
    "plt.scatter(x_axis1, He_data.ln_D_a2.iloc[:arr_1], color = 'b', s=75)\n",
    "plt.scatter(x_axis2, He_data.ln_D_a2.iloc[arr_1:], color = 'm', s=75)\n",
    "\n",
    "plt.errorbar(x_axis1, He_data.ln_D_a2.iloc[:arr_1], yerr=He_data.ln_D_a2_sig.iloc[:arr_1], fmt='o', capsize=6)\n",
    "plt.errorbar(x_axis2, He_data.ln_D_a2.iloc[arr_1:], yerr=He_data.ln_D_a2_sig.iloc[arr_1:], fmt='o', capsize=6)\n",
    "\n",
    "#plt.savefig('.pdf') \n",
    "plt.show()"
   ]
  },
  {
   "cell_type": "markdown",
   "metadata": {},
   "source": [
    "### 4. Calculating weighted and unweighted regression for Arrhennius plot\n",
    "First we'll set up the linear regression equations\n",
    "\n",
    "DON'T FORGET TO CHANGE THE n-value to the number of datapoints to regress!!!"
   ]
  },
  {
   "cell_type": "code",
   "execution_count": 10,
   "metadata": {},
   "outputs": [],
   "source": [
    "#THIS IS FOR UNWEIGHTED LINEAR REGRESSION\n",
    "#insert n-value here. will be used for the rest of the calc\n",
    "n = \n",
    "\n",
    "def ord_lin_regress(X_vals, Y_vals):\n",
    "    \n",
    "    #hint: it helps to create arrays for XY values and X^2 (use x**2 to raise something to a power) from your input\n",
    "    #first create some empty arrays\n",
    "    \n",
    "    XY_vals = []\n",
    "    X2_vals = []\n",
    "    \n",
    "    #then try this for loop (remember that Python uses zero indexing):\n",
    "    \n",
    "    for i in range(len(X_vals)):\n",
    "        XY = X_vals[i] * Y_vals[i]\n",
    "        X2 = X_vals[i]**2\n",
    "        \n",
    "        XY_vals.append(XY)\n",
    "        X2_vals.append(X2)\n",
    "        \n",
    "    #now calculate slope and intercept below using the sum function, I'll let you try the math here\n",
    "    \n",
    "    slope = (sum(XY_vals) - (sum(X_vals)*sum(Y_vals)/n)) / (sum(X2_vals) - ((sum(X_vals)**2)/n))\n",
    "    intercept = (sum(X_vals) * sum(XY_vals) - sum(Y_vals) * sum(X2_vals)) / ((sum(X_vals)**2) - n*sum(X2_vals))\n",
    "    \n",
    "    return slope, intercept"
   ]
  },
  {
   "cell_type": "markdown",
   "metadata": {},
   "source": [
    "Now we'll calculate the slope and intercept for the Arrhenius trend. To make things easier we'll make a new dataframe only with the data we want to calculate the linear regression with."
   ]
  },
  {
   "cell_type": "code",
   "execution_count": 11,
   "metadata": {},
   "outputs": [
    {
     "name": "stdout",
     "output_type": "stream",
     "text": [
      "The unweighted slope is  -1.4519598540039158\n",
      "The unweighted intercept is  4.844819287525969\n"
     ]
    }
   ],
   "source": [
    "#THIS IS FOR UNWEIGHTED LINEAR REGRESSION\n",
    "\n",
    "#making new lists. don't forget to change the range of datapoints\n",
    "x_axis2 = 1e4 / (He_data.temp_degC.iloc[arr_1:] + 273.15)\n",
    "ln_D_a2_arr = He_data.ln_D_a2.iloc[arr_1:]\n",
    "ln_D_a2_sig_arr = He_data.ln_D_a2_sig.iloc[arr_1:]\n",
    "\n",
    "arrhenius_data = {'temp': x_axis2, 'ln_D_a2_arr':ln_D_a2_arr, 'ln_D_a2_sig_arr':ln_D_a2_sig_arr}\n",
    "#making new dataframe and resetting index\n",
    "arr_data = pd.DataFrame(arrhenius_data)\n",
    "arr_data.reset_index(inplace=True)\n",
    "\n",
    "#now we'll do the calculation\n",
    "arrhenius = ord_lin_regress(arr_data.temp, arr_data.ln_D_a2_arr)\n",
    "\n",
    "slope_un = arrhenius[0]\n",
    "intercept_un = arrhenius[1]\n",
    "\n",
    "print('The unweighted slope is ', arrhenius[0])\n",
    "print('The unweighted intercept is ', arrhenius[1])"
   ]
  },
  {
   "cell_type": "markdown",
   "metadata": {},
   "source": [
    "#### 4.5 Weighted linear regression with errors in y (`D_a2`)\n",
    "Alternatively, we can calculate the slope and intercept using weighted linear regression, taking into account the errors in `ln_D_a2`."
   ]
  },
  {
   "cell_type": "code",
   "execution_count": 12,
   "metadata": {},
   "outputs": [
    {
     "data": {
      "text/plain": [
       "39.99999999999999"
      ]
     },
     "execution_count": 12,
     "metadata": {},
     "output_type": "execute_result"
    }
   ],
   "source": [
    "#first calculate the weighing factor, w that will be used for \n",
    "w_i = []\n",
    "\n",
    "for i in range(len(arr_data)):\n",
    "    w = (n * arr_data.ln_D_a2_sig_arr[i]**(-2)) / np.sum(arr_data.ln_D_a2_sig_arr**(-2))\n",
    "    w_i.append(w)\n",
    "\n",
    "arr_data['w_i'] = w_i\n",
    "\n",
    "w_sum = np.sum(arr_data.w_i)\n",
    "w_sum  # check that this is equal to the number of datapoints to regress, n"
   ]
  },
  {
   "cell_type": "code",
   "execution_count": 13,
   "metadata": {},
   "outputs": [
    {
     "name": "stdout",
     "output_type": "stream",
     "text": [
      "The weighted slope is  -1.4460240793713466\n",
      "The weighted intercept is  4.730957431753566\n"
     ]
    }
   ],
   "source": [
    "wy_i = []\n",
    "wx_i = []\n",
    "wxy_i = []\n",
    "w_x2_i = []  # w * x^2\n",
    "    \n",
    "#then try this for loop (remember that Python uses zero indexing):\n",
    "    \n",
    "for i in range(len(arr_data)):\n",
    "    wy = arr_data.w_i[i] * arr_data.ln_D_a2_arr[i]\n",
    "    wx = arr_data.w_i[i] * arr_data.temp[i]\n",
    "    wxy = arr_data.w_i[i] * arr_data.temp[i] * arr_data.ln_D_a2_arr[i]\n",
    "    w_x2 = arr_data.w_i[i] * arr_data.temp[i]**2\n",
    "        \n",
    "    wy_i.append(wy)\n",
    "    wx_i.append(wx)\n",
    "    wxy_i.append(wxy)\n",
    "    w_x2_i.append(w_x2)\n",
    "        \n",
    "#now calculate slope and intercept below using the sum function, I'll let you try the math here\n",
    "    \n",
    "slope_wght = (n * sum(wxy_i) - sum(wx_i) * sum(wy_i)) / (n * sum(w_x2_i) - sum(wx_i)**2)\n",
    "intercept_wght = (sum(wy_i) - slope_wght * sum(wx_i)) / n\n",
    "\n",
    "print('The weighted slope is ', slope_wght)\n",
    "print('The weighted intercept is ', intercept_wght)"
   ]
  },
  {
   "cell_type": "markdown",
   "metadata": {},
   "source": [
    "### 5. Calculting std dev and 95% confidence interval in `slope` and `intercept` of linear regressions.\n",
    "We will use the equation in \"Chemometrics using R: Chapter 8.1\"."
   ]
  },
  {
   "cell_type": "markdown",
   "metadata": {},
   "source": [
    "#### Uncertainty for unweighted regression\n",
    "First, we will calculate the standard deviation about the regression, `s_r`."
   ]
  },
  {
   "cell_type": "code",
   "execution_count": 14,
   "metadata": {},
   "outputs": [
    {
     "name": "stdout",
     "output_type": "stream",
     "text": [
      "Standard deviation about the regression = 0.086004323474587\n"
     ]
    }
   ],
   "source": [
    "y_min_y_2 =[]\n",
    "\n",
    "#calculating std dev about the regression, s_r. uncomment the eq you want to use\n",
    "for i in range(len(arr_data)):\n",
    "    #reg_eq = slope_un * arr_data.temp[i] + intercept_un  # unweighted linear eq\n",
    "    reg_eq = slope_wght * arr_data.temp[i] + intercept_wght  # weighted linear eq\n",
    "    yi_min_yp_2 = (arr_data.ln_D_a2_arr[i] - reg_eq) ** 2\n",
    "    \n",
    "    y_min_y_2.append(yi_min_yp_2)\n",
    "    \n",
    "s_r = np.sqrt(np.sum(y_min_y_2) / (n - 2))  # same n as in section 4\n",
    "print('Standard deviation about the regression =', s_r)"
   ]
  },
  {
   "cell_type": "markdown",
   "metadata": {},
   "source": [
    "Now, we will calculate the standard deviations for the slope, `s_slope`, and y-intercept, `s_int`. IMPORTANT: Make sure to choose which equation to use for `reg_u` above!"
   ]
  },
  {
   "cell_type": "code",
   "execution_count": 15,
   "metadata": {},
   "outputs": [
    {
     "name": "stdout",
     "output_type": "stream",
     "text": [
      "0.00853249163142971 0.13021177251679616\n"
     ]
    }
   ],
   "source": [
    "#first to calculate the mean of x (temp)\n",
    "mean_T = np.mean(arr_data.temp)\n",
    "\n",
    "x2 = []\n",
    "x_min_x2 = []\n",
    "\n",
    "# now to calculate x_i - x_expected in a for loop\n",
    "for i in range(len(arr_data)):\n",
    "    \n",
    "    x2_i = arr_data.temp[i] ** 2\n",
    "    x_min_x2_i = (arr_data.temp[i] - mean_T) ** 2\n",
    "    \n",
    "    x2.append(x2_i)\n",
    "    x_min_x2.append(x_min_x2_i)\n",
    "    \n",
    "#calculating std dev for slope and intercept\n",
    "s_slope = np.sqrt((s_r ** 2) / np.sum(x_min_x2))\n",
    "s_int = np.sqrt((s_r**2 * sum(x2)) / (n * sum(x_min_x2)))\n",
    "\n",
    "print(s_slope, s_int)"
   ]
  },
  {
   "cell_type": "markdown",
   "metadata": {},
   "source": [
    "To calculate the confidence interval, we need to select the t-test critical values `alpha_t` and degrees of freedom `df` (simply n-2). Make sure to use the two-tailed `alpha_t`. The t value can be found online (e.g., https://www.medcalc.org/manual/t-distribution-table.php)"
   ]
  },
  {
   "cell_type": "code",
   "execution_count": 16,
   "metadata": {},
   "outputs": [
    {
     "name": "stdout",
     "output_type": "stream",
     "text": [
      "0.017269763062013735 0.26354862757399544\n"
     ]
    }
   ],
   "source": [
    "#THIS IS FOR UNWEIGHTED LIN REG\n",
    "# we want to calculate 95% confidence interval (alpha_T = 0.05) for n =  (df = )\n",
    "t_test = \n",
    "\n",
    "CI95_slope = s_slope * t_test\n",
    "CI95_int = s_int * t_test\n",
    "\n",
    "print(CI95_slope, CI95_int)"
   ]
  },
  {
   "cell_type": "markdown",
   "metadata": {},
   "source": [
    "### 6. Calculate diffusion kinetic parameters  `E_a` and `D_0` with uncertainties.\n",
    "Now we can calculate the diffusion kinetic parameters: activation energy `E_a` and frequency factor `D_0`.\n",
    "#### NOTE: only either the weighted or unweighted uncertainties can be reported at a time due to the way the code is set up in part 5."
   ]
  },
  {
   "cell_type": "code",
   "execution_count": 23,
   "metadata": {
    "scrolled": true
   },
   "outputs": [
    {
     "name": "stdout",
     "output_type": "stream",
     "text": [
      "Unweighted E_a = 120.72279551239646 ± 0.7094316275975814 kJ/mol (1σ).\n",
      "Unweighted E_a = 120.72279551239646 ± 1.4358896142574764 kJ/mol (95% CI).\n",
      "Unweighted D_0 = 0.002460274896860321 ± 0.00034214940007519816 cm^2/s (1σ).\n",
      "Unweighted D_0 = 0.002460274896860321 ± 0.0007418727296030292 cm^2/s (95% CI).\n",
      "These are not the actual errors. Please see note for part 5 above.\n"
     ]
    }
   ],
   "source": [
    "#calculating activation energy and frequency factor with UNWEIGHTED lin reg\n",
    "\n",
    "E_a = - gas_constant * slope_un * 10  # in kJ/mol\n",
    "D_0 = np.exp(intercept_un) * half_width**2\n",
    "\n",
    "#uncertainty calculation.\n",
    "\n",
    "E_a_stdv = E_a - (- gas_constant * (slope_un+s_slope) * 10)\n",
    "E_a_CI95 = E_a - (- gas_constant * (slope_un+CI95_slope) * 10)\n",
    "D_0_stdev = np.exp(intercept_un+s_int) * half_width**2 - D_0\n",
    "D_0_CI95 = np.exp(intercept_un+CI95_int) * half_width**2 - D_0\n",
    "\n",
    "print(u'Unweighted E_a =', E_a, '\\u00B1', E_a_stdv, 'kJ/mol (1\\u03C3).')\n",
    "print(u'Unweighted E_a =', E_a, '\\u00B1', E_a_CI95, 'kJ/mol (95% CI).')\n",
    "print(u'Unweighted D_0 =', D_0, '\\u00B1', D_0_stdev, 'cm^2/s (1\\u03C3).')\n",
    "print(u'Unweighted D_0 =', D_0, '\\u00B1', D_0_CI95, 'cm^2/s (95% CI).')\n",
    "print('These are not the actual errors. Please see note for part 5 above.') #uncomment if necessary"
   ]
  },
  {
   "cell_type": "code",
   "execution_count": 25,
   "metadata": {},
   "outputs": [
    {
     "name": "stdout",
     "output_type": "stream",
     "text": [
      "Weighted E_a = 120.2292671925884 ± 0.7094316275975814 kJ/mol (1σ).\n",
      "Weighted E_a = 120.2292671925884 ± 1.4358896142574764 kJ/mol (95% CI).\n",
      "Weighted D_0 = 0.002195503125516519 ± 0.0003053277006635842 cm^2/s (1σ).\n",
      "Weighted D_0 = 0.002195503125516519 ± 0.0006620332950019094 cm^2/s (95% CI).\n"
     ]
    }
   ],
   "source": [
    "#calculating activation energy and frequency factor with WEIGHTED lin reg\n",
    "\n",
    "Ea_w = - gas_constant * slope_wght * 10  # in kJ/mol\n",
    "D0_w = np.exp(intercept_wght) * half_width**2\n",
    "\n",
    "#uncertainty calculation.\n",
    "\n",
    "Ea_w_stdv = Ea_w - (- gas_constant * (slope_wght+s_slope) * 10)\n",
    "Ea_w_CI95 = Ea_w - (- gas_constant * (slope_wght+CI95_slope) * 10)\n",
    "D0_w_stdev = np.exp(intercept_wght+s_int) * half_width**2 - D0_w\n",
    "D0_w_CI95 = np.exp(intercept_wght+CI95_int) * half_width**2 - D0_w\n",
    "\n",
    "print(u'Weighted E_a =', Ea_w, '\\u00B1', Ea_w_stdv, 'kJ/mol (1\\u03C3).')\n",
    "print(u'Weighted E_a =', Ea_w, '\\u00B1', Ea_w_CI95, 'kJ/mol (95% CI).')\n",
    "print(u'Weighted D_0 =', D0_w, '\\u00B1', D0_w_stdev, 'cm^2/s (1\\u03C3).')\n",
    "print(u'Weighted D_0 =', D0_w, '\\u00B1', D0_w_CI95, 'cm^2/s (95% CI).')\n",
    "#print('These are not the actual errors. Please see note for part 5 above.') #uncomment if necessary"
   ]
  },
  {
   "cell_type": "markdown",
   "metadata": {},
   "source": [
    "### END (FOR NOW)\n",
    "misc stuff below"
   ]
  },
  {
   "cell_type": "markdown",
   "metadata": {},
   "source": [
    "Some random but useful lines of code:"
   ]
  },
  {
   "cell_type": "code",
   "execution_count": 19,
   "metadata": {
    "scrolled": false
   },
   "outputs": [],
   "source": [
    "#adding new empty columns\n",
    "#He_data.insert(loc=4, column='temp_degC', value='')\n",
    "\n",
    "#appending new values one by one OR to replace an existing one\n",
    "#He_data.at['RS23_G168_200_1', 'temp_degC'] = 200\n",
    "#He_data.at['RS23_G168_200_1', 'time_s'] = 3600\n",
    "\n",
    "#if you need to delete a row/column for some reason\n",
    "#He_data = He_data.drop(labels=\"time_s\", axis=1)"
   ]
  },
  {
   "cell_type": "markdown",
   "metadata": {},
   "source": [
    "Calculating fraction and ln(D/${a^2}$) for the first heating step (not needed anymore but just keeping it here)"
   ]
  },
  {
   "cell_type": "code",
   "execution_count": 20,
   "metadata": {},
   "outputs": [],
   "source": [
    "#calculating first fraction, f_first and ln(D/a^2)\n",
    "\n",
    "#f_first = He_data.mol_He[0] / He_mol_total\n",
    "#ln_D_a2 = np.log((f_first**2) * (np.pi / (4 * He_data.time_s[0])))\n",
    "\n",
    "#print(f_first, ln_D_a2)\n",
    "\n",
    "#adding columns for frac, f_cum, and ln_D_a2\n",
    "#He_data['frac'] = ''\n",
    "#He_data['f_cum'] = ''\n",
    "#He_data['ln_D_a2'] = ''\n",
    "\n",
    "#appending to first row of dataframe\n",
    "\n",
    "#He_data.at['RS23_G168_150_1', 'frac'] = f_first\n",
    "#He_data.at['RS23_G168_150_1', 'ln_D_a2'] = ln_D_a2\n",
    "\n",
    "#He_data"
   ]
  }
 ],
 "metadata": {
  "kernelspec": {
   "display_name": "Python 3",
   "language": "python",
   "name": "python3"
  },
  "language_info": {
   "codemirror_mode": {
    "name": "ipython",
    "version": 3
   },
   "file_extension": ".py",
   "mimetype": "text/x-python",
   "name": "python",
   "nbconvert_exporter": "python",
   "pygments_lexer": "ipython3",
   "version": "3.8.3"
  }
 },
 "nbformat": 4,
 "nbformat_minor": 5
}
